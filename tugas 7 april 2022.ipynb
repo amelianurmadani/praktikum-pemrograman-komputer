{
 "cells": [
  {
   "cell_type": "code",
   "execution_count": 3,
   "id": "05732c6c-63a6-4265-a256-1073abea08ea",
   "metadata": {},
   "outputs": [
    {
     "name": "stdout",
     "output_type": "stream",
     "text": [
      "amelia nurmadani (200601110087)\n",
      "tugas pertemuan tanggal 7 april 2022\n"
     ]
    }
   ],
   "source": [
    "print ('amelia nurmadani (200601110087)')\n",
    "print ('tugas pertemuan tanggal 7 april 2022')"
   ]
  },
  {
   "cell_type": "code",
   "execution_count": 4,
   "id": "692867ca-e072-4332-b99b-1b2111697477",
   "metadata": {},
   "outputs": [],
   "source": [
    "from sympy import *\n",
    "x, t, z, nu = symbols('x t z nu')"
   ]
  },
  {
   "cell_type": "code",
   "execution_count": 5,
   "id": "f36dcd56-80d9-4d70-ba2a-ccffa89c180c",
   "metadata": {},
   "outputs": [
    {
     "data": {
      "text/latex": [
       "$\\displaystyle 8 - 8 x$"
      ],
      "text/plain": [
       "8 - 8*x"
      ]
     },
     "execution_count": 5,
     "metadata": {},
     "output_type": "execute_result"
    }
   ],
   "source": [
    "#nomor 1\n",
    "a = (x - 3)**2\n",
    "b = x**2 + 2*x + 1\n",
    "simplify(a - b)"
   ]
  },
  {
   "cell_type": "code",
   "execution_count": 6,
   "id": "f3f58f70-5f1e-4bab-b195-12199af61c92",
   "metadata": {},
   "outputs": [
    {
     "data": {
      "text/latex": [
       "$\\displaystyle x^{4} + x^{2} - 6$"
      ],
      "text/plain": [
       "x**4 + x**2 - 6"
      ]
     },
     "execution_count": 6,
     "metadata": {},
     "output_type": "execute_result"
    }
   ],
   "source": [
    "#nomor 2\n",
    "c = x**4 - 2*x - 7\n",
    "simplify(b + c)"
   ]
  },
  {
   "cell_type": "code",
   "execution_count": 11,
   "id": "7bea04f4-c0dc-47e8-8a5a-b49ea0f57f41",
   "metadata": {},
   "outputs": [
    {
     "data": {
      "text/latex": [
       "$\\displaystyle \\left(\\frac{\\left(\\tan^{2}{\\left(x \\right)} + 1\\right) e^{x}}{\\tan{\\left(x \\right)}} + e^{x} \\log{\\left(\\tan{\\left(x \\right)} \\right)}\\right) \\tan^{e^{x}}{\\left(x \\right)}$"
      ],
      "text/plain": [
       "((tan(x)**2 + 1)*exp(x)/tan(x) + exp(x)*log(tan(x)))*tan(x)**exp(x)"
      ]
     },
     "execution_count": 11,
     "metadata": {},
     "output_type": "execute_result"
    }
   ],
   "source": [
    "#nomor 3\n",
    "diff(tan(x)**exp(x), x)"
   ]
  },
  {
   "cell_type": "code",
   "execution_count": 21,
   "id": "cd98bc8d-62a9-48a0-b37f-ae9f8cee1de9",
   "metadata": {},
   "outputs": [
    {
     "data": {
      "text/latex": [
       "$\\displaystyle \\frac{2 \\cos^{3}{\\left(7 \\right)}}{7}$"
      ],
      "text/plain": [
       "2*cos(7)**3/7"
      ]
     },
     "execution_count": 21,
     "metadata": {},
     "output_type": "execute_result"
    }
   ],
   "source": [
    "#nomor 4\n",
    "limit(cos(x)**3/x*2, x, 7)"
   ]
  },
  {
   "cell_type": "code",
   "execution_count": 35,
   "id": "ecf4678b-01f5-425f-8ec2-e4de0107e087",
   "metadata": {},
   "outputs": [
    {
     "data": {
      "text/latex": [
       "$\\displaystyle \\frac{1}{3} - \\log{\\left(\\cos{\\left(1 \\right)} \\right)}$"
      ],
      "text/plain": [
       "1/3 - log(cos(1))"
      ]
     },
     "execution_count": 35,
     "metadata": {},
     "output_type": "execute_result"
    }
   ],
   "source": [
    "#nomor 5\n",
    "integrate(tan(x) + (x**2), (x, 0, 1))"
   ]
  },
  {
   "cell_type": "code",
   "execution_count": null,
   "id": "8881b711-b4ca-43c8-971b-f647d111614a",
   "metadata": {},
   "outputs": [],
   "source": []
  }
 ],
 "metadata": {
  "kernelspec": {
   "display_name": "Python 3 (ipykernel)",
   "language": "python",
   "name": "python3"
  },
  "language_info": {
   "codemirror_mode": {
    "name": "ipython",
    "version": 3
   },
   "file_extension": ".py",
   "mimetype": "text/x-python",
   "name": "python",
   "nbconvert_exporter": "python",
   "pygments_lexer": "ipython3",
   "version": "3.10.2"
  }
 },
 "nbformat": 4,
 "nbformat_minor": 5
}
