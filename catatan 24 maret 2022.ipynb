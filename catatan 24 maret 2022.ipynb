{
 "cells": [
  {
   "cell_type": "markdown",
   "id": "3ab54d20-0398-449d-af20-156384f6b307",
   "metadata": {},
   "source": [
    "Amelia Nurmadani (200601110087)"
   ]
  },
  {
   "cell_type": "markdown",
   "id": "ae7e73cb-cb6b-4935-8e96-df69e193623d",
   "metadata": {},
   "source": [
    "akan mengakses elemen dalam array menggunakan fasilitas pengindeksan."
   ]
  },
  {
   "cell_type": "code",
   "execution_count": 1,
   "id": "62e0d471-7688-4456-a2b0-ce30e6f377bf",
   "metadata": {},
   "outputs": [
    {
     "data": {
      "text/plain": [
       "array([[ 0,  1,  2,  3,  4],\n",
       "       [ 5,  6,  7,  8,  9],\n",
       "       [10, 11, 12, 13, 14]])"
      ]
     },
     "execution_count": 1,
     "metadata": {},
     "output_type": "execute_result"
    }
   ],
   "source": [
    "import numpy as np\n",
    "a = np.arange(15).reshape(3, 5)\n",
    "a"
   ]
  },
  {
   "cell_type": "code",
   "execution_count": 2,
   "id": "6be6a11b-0878-495f-8d60-ba6007a6a203",
   "metadata": {},
   "outputs": [
    {
     "data": {
      "text/plain": [
       "(3, 5)"
      ]
     },
     "execution_count": 2,
     "metadata": {},
     "output_type": "execute_result"
    }
   ],
   "source": [
    "a.shape"
   ]
  },
  {
   "cell_type": "code",
   "execution_count": 3,
   "id": "d14abe17-7f13-4d88-b0b2-8e269934ff24",
   "metadata": {},
   "outputs": [
    {
     "data": {
      "text/plain": [
       "2"
      ]
     },
     "execution_count": 3,
     "metadata": {},
     "output_type": "execute_result"
    }
   ],
   "source": [
    "a.ndim"
   ]
  },
  {
   "cell_type": "code",
   "execution_count": 4,
   "id": "75057b75-5437-4a01-9e3c-b9ffa8e23395",
   "metadata": {},
   "outputs": [
    {
     "data": {
      "text/plain": [
       "'int32'"
      ]
     },
     "execution_count": 4,
     "metadata": {},
     "output_type": "execute_result"
    }
   ],
   "source": [
    "a.dtype.name"
   ]
  },
  {
   "cell_type": "code",
   "execution_count": 5,
   "id": "d525f4cd-33d6-4c6e-bc70-62a2e42ee742",
   "metadata": {},
   "outputs": [
    {
     "data": {
      "text/plain": [
       "4"
      ]
     },
     "execution_count": 5,
     "metadata": {},
     "output_type": "execute_result"
    }
   ],
   "source": [
    "a.itemsize"
   ]
  },
  {
   "cell_type": "code",
   "execution_count": 6,
   "id": "72137bd1-f714-42a8-a543-4a147d904078",
   "metadata": {},
   "outputs": [
    {
     "data": {
      "text/plain": [
       "15"
      ]
     },
     "execution_count": 6,
     "metadata": {},
     "output_type": "execute_result"
    }
   ],
   "source": [
    "a.size"
   ]
  },
  {
   "cell_type": "code",
   "execution_count": 7,
   "id": "719ddb0b-d3aa-4de6-ad5c-7c4e72950851",
   "metadata": {},
   "outputs": [
    {
     "data": {
      "text/plain": [
       "numpy.ndarray"
      ]
     },
     "execution_count": 7,
     "metadata": {},
     "output_type": "execute_result"
    }
   ],
   "source": [
    "type(a)"
   ]
  },
  {
   "cell_type": "code",
   "execution_count": 8,
   "id": "568e2149-9f44-4693-a6a5-2c8e158ca081",
   "metadata": {},
   "outputs": [
    {
     "data": {
      "text/plain": [
       "array([6, 7, 8])"
      ]
     },
     "execution_count": 8,
     "metadata": {},
     "output_type": "execute_result"
    }
   ],
   "source": [
    "b = np.array([6, 7, 8])\n",
    "b"
   ]
  },
  {
   "cell_type": "code",
   "execution_count": 9,
   "id": "4e7dc09d-188a-49fb-8771-de4ee36f2100",
   "metadata": {},
   "outputs": [
    {
     "data": {
      "text/plain": [
       "numpy.ndarray"
      ]
     },
     "execution_count": 9,
     "metadata": {},
     "output_type": "execute_result"
    }
   ],
   "source": [
    "type(b)"
   ]
  },
  {
   "cell_type": "markdown",
   "id": "898bd822-dec6-4bbf-a6da-ae86e715448f",
   "metadata": {},
   "source": [
    "membuat array"
   ]
  },
  {
   "cell_type": "code",
   "execution_count": 10,
   "id": "08f6ee95-0aa4-4e92-8610-68ae383f3921",
   "metadata": {},
   "outputs": [
    {
     "data": {
      "text/plain": [
       "array([2, 3, 4])"
      ]
     },
     "execution_count": 10,
     "metadata": {},
     "output_type": "execute_result"
    }
   ],
   "source": [
    "import numpy as np\n",
    "a = np.array([2, 3, 4])\n",
    "a"
   ]
  },
  {
   "cell_type": "code",
   "execution_count": 11,
   "id": "f4223128-37eb-42d2-957e-679a072819a6",
   "metadata": {},
   "outputs": [
    {
     "data": {
      "text/plain": [
       "dtype('int32')"
      ]
     },
     "execution_count": 11,
     "metadata": {},
     "output_type": "execute_result"
    }
   ],
   "source": [
    "a.dtype"
   ]
  },
  {
   "cell_type": "code",
   "execution_count": 13,
   "id": "5e82a656-5de2-4189-b8e5-02f989cee88e",
   "metadata": {},
   "outputs": [
    {
     "data": {
      "text/plain": [
       "dtype('float64')"
      ]
     },
     "execution_count": 13,
     "metadata": {},
     "output_type": "execute_result"
    }
   ],
   "source": [
    "b = np.array([1.2, 3.5, 5.1])\n",
    "b.dtype"
   ]
  },
  {
   "cell_type": "markdown",
   "id": "b7cf5f66-4200-483e-88ab-69d154cc79a5",
   "metadata": {},
   "source": [
    "kesalahan yang sering terjadi dalam pembuatan array"
   ]
  },
  {
   "cell_type": "markdown",
   "id": "50eb39e4-6274-46c7-a442-aa0299777922",
   "metadata": {},
   "source": [
    "a = np.array(1,2,3,4) #wrong"
   ]
  },
  {
   "cell_type": "markdown",
   "id": "293c574f-82bf-4af8-a643-3c6d3ffb5ef8",
   "metadata": {},
   "source": [
    "a = np.array([1, 2, 3, 4]) #right"
   ]
  },
  {
   "cell_type": "markdown",
   "id": "f311531b-c66a-4ee5-89a5-02b3c1145650",
   "metadata": {},
   "source": [
    "array mengubah barisan dari sebuah barisan menjadi array dua dimensi,\n",
    "barisan dari barisan sebuah barisan menjadi array tiga dimensi, dan seterusnya."
   ]
  },
  {
   "cell_type": "code",
   "execution_count": 15,
   "id": "f927f644-d390-4a78-8e26-d1040eedb084",
   "metadata": {},
   "outputs": [
    {
     "data": {
      "text/plain": [
       "array([[1.5, 2. , 3. ],\n",
       "       [4. , 5. , 6. ]])"
      ]
     },
     "execution_count": 15,
     "metadata": {},
     "output_type": "execute_result"
    }
   ],
   "source": [
    "b = np.array([(1.5, 2, 3), (4, 5, 6)])\n",
    "b"
   ]
  },
  {
   "cell_type": "markdown",
   "id": "600a1532-8e84-4b3f-b14f-4e4ec2ee524c",
   "metadata": {},
   "source": [
    "Jenis array juga dapat secara eksplisit ditentukan pada saat pembuatan"
   ]
  },
  {
   "cell_type": "code",
   "execution_count": 16,
   "id": "459ace56-f02b-40b1-b596-cdd827863ea0",
   "metadata": {},
   "outputs": [
    {
     "data": {
      "text/plain": [
       "array([[1.+0.j, 2.+0.j],\n",
       "       [3.+0.j, 4.+0.j]])"
      ]
     },
     "execution_count": 16,
     "metadata": {},
     "output_type": "execute_result"
    }
   ],
   "source": [
    "c = np.array([[1, 2], [3, 4]], dtype=complex)\n",
    "c"
   ]
  },
  {
   "cell_type": "markdown",
   "id": "05efcf35-5b78-4cdf-870c-c16410e772c9",
   "metadata": {},
   "source": [
    "Seringkali, elemen dari sebuah array pada awalnya tidak diketahui, namun ukurannya diketahui. Oleh karena itu, NumPy menawarkan beberapa fungsi untuk membuat array yang memuat nilai awal. Hal tersebut\n",
    "dapat meminimalkan pertumbuhan memori yang diperlukan array, sebagai operasi yang dianggap mahal.\n"
   ]
  },
  {
   "cell_type": "markdown",
   "id": "6f1da3eb-ef51-4169-b2e1-3c459c607daf",
   "metadata": {},
   "source": [
    "Fungsi zeros menciptakan sebuah array yang berisi angka nol, fungsi ones yang menciptakan array yang berisi angka satu, dan fungsi empty menciptakan array yang isinya acak dan bergantung pada keadaan memori.\n",
    "Secara default, dtype dari array yang dibuat adalah float64."
   ]
  },
  {
   "cell_type": "code",
   "execution_count": 17,
   "id": "4547f56e-7fe3-425b-b3f5-f2992dcf5dfc",
   "metadata": {},
   "outputs": [
    {
     "data": {
      "text/plain": [
       "array([[0., 0., 0., 0.],\n",
       "       [0., 0., 0., 0.],\n",
       "       [0., 0., 0., 0.]])"
      ]
     },
     "execution_count": 17,
     "metadata": {},
     "output_type": "execute_result"
    }
   ],
   "source": [
    "np. zeros ( (3 ,4) )"
   ]
  },
  {
   "cell_type": "code",
   "execution_count": 20,
   "id": "e4b887fe-a9ff-45f0-9bb1-5a6000375ecb",
   "metadata": {},
   "outputs": [
    {
     "data": {
      "text/plain": [
       "array([[[1, 1, 1, 1],\n",
       "        [1, 1, 1, 1],\n",
       "        [1, 1, 1, 1]],\n",
       "\n",
       "       [[1, 1, 1, 1],\n",
       "        [1, 1, 1, 1],\n",
       "        [1, 1, 1, 1]]], dtype=int16)"
      ]
     },
     "execution_count": 20,
     "metadata": {},
     "output_type": "execute_result"
    }
   ],
   "source": [
    "np.ones( (2 ,3 ,4) , dtype =np. int16 ) # dtype can also be specified"
   ]
  },
  {
   "cell_type": "code",
   "execution_count": 21,
   "id": "6bc89c50-33ea-46b1-a00a-8cc93ac7b5fb",
   "metadata": {},
   "outputs": [
    {
     "data": {
      "text/plain": [
       "array([[1.5, 2. , 3. ],\n",
       "       [4. , 5. , 6. ]])"
      ]
     },
     "execution_count": 21,
     "metadata": {},
     "output_type": "execute_result"
    }
   ],
   "source": [
    "np. empty ( (2 ,3) ) # uninitialized , output may vary"
   ]
  },
  {
   "cell_type": "markdown",
   "id": "ed1fdc06-cb99-445c-bf8e-cedf71deabe4",
   "metadata": {},
   "source": [
    "Untuk membuat barisan angka, NumPy menyediakan fungsi yang mirip dengan range yang outputnya berupa array dan bukan berupa list."
   ]
  },
  {
   "cell_type": "code",
   "execution_count": 22,
   "id": "34005cbd-b735-4b6d-b80b-f24c66d3aba9",
   "metadata": {},
   "outputs": [
    {
     "data": {
      "text/plain": [
       "array([10, 15, 20, 25])"
      ]
     },
     "execution_count": 22,
     "metadata": {},
     "output_type": "execute_result"
    }
   ],
   "source": [
    "np. arange (10 ,30 ,5 )"
   ]
  },
  {
   "cell_type": "code",
   "execution_count": 23,
   "id": "4ca3475d-eaab-4c59-872f-8f12a59688ec",
   "metadata": {},
   "outputs": [
    {
     "data": {
      "text/plain": [
       "array([0. , 0.3, 0.6, 0.9, 1.2, 1.5, 1.8])"
      ]
     },
     "execution_count": 23,
     "metadata": {},
     "output_type": "execute_result"
    }
   ],
   "source": [
    "np. arange (0 ,2 ,0.3 ) # it accepts float arguments"
   ]
  },
  {
   "cell_type": "markdown",
   "id": "761b9e10-0d27-4394-b2bd-e0a93060bd7f",
   "metadata": {},
   "source": [
    "Jika arange digunakan dengan argumen floating point, biasanya sulit memprediksi jumlah elemen yang diperoleh, karena presisi floating point yang terbatas. Untuk itu, lebih baik menggunakan fungsi linspace yang dapat menerima masukan berapa jumlah elemen yang kita inginkan:"
   ]
  },
  {
   "cell_type": "code",
   "execution_count": 24,
   "id": "68552c8f-58f4-4088-a60e-dc339353ae56",
   "metadata": {},
   "outputs": [
    {
     "data": {
      "text/plain": [
       "array([0.  , 0.25, 0.5 , 0.75, 1.  , 1.25, 1.5 , 1.75, 2.  ])"
      ]
     },
     "execution_count": 24,
     "metadata": {},
     "output_type": "execute_result"
    }
   ],
   "source": [
    "from numpy import pi\n",
    "np. linspace (0 ,2 ,9) #9 numbers from 0 to 2"
   ]
  },
  {
   "cell_type": "code",
   "execution_count": 25,
   "id": "73e2ff4a-a6c2-496f-b2fe-5d5617fa223a",
   "metadata": {},
   "outputs": [],
   "source": [
    "x = np. linspace (0 ,2*pi ,100 ) # useful to evaluate function at lots of points\n",
    "f = np.sin(x)"
   ]
  },
  {
   "cell_type": "markdown",
   "id": "65223cf6-1cbb-4ec4-99cf-91ebabd67c94",
   "metadata": {},
   "source": [
    "menampilkan array"
   ]
  },
  {
   "cell_type": "markdown",
   "id": "3740b5be-2a71-47be-b5de-2adef0f19598",
   "metadata": {},
   "source": [
    "Saat kita menampilkan array, NumPy menampilkannya dengan cara yang mirip dengan daftar bersarang, namun dengan tata letak berikut:"
   ]
  },
  {
   "cell_type": "markdown",
   "id": "396990d1-ad67-4a83-bfdf-107a03af4b96",
   "metadata": {},
   "source": [
    "axis terakhir dicetak dari kiri ke kanan"
   ]
  },
  {
   "cell_type": "markdown",
   "id": "74c7ab5a-acbe-4ebb-955f-5d8cfd1f3733",
   "metadata": {},
   "source": [
    "yang kedua sampai yang terakhir dicetak dari atas ke bawah"
   ]
  },
  {
   "cell_type": "markdown",
   "id": "8b646849-1bd6-4772-965a-085ee36ff1d4",
   "metadata": {},
   "source": [
    "Sisanya juga dicetak dari atas ke bawah, dengan masing-masing potongan dipisahkan oleh sebuah baris kosong."
   ]
  },
  {
   "cell_type": "markdown",
   "id": "9f08662f-f823-4d48-b40e-159958bd4732",
   "metadata": {},
   "source": [
    "array satu dimensi dicetak sebagai baris, array dua dimensi sebagai matriks dan tridimensionals sebagai daftar matriks."
   ]
  },
  {
   "cell_type": "code",
   "execution_count": 26,
   "id": "ffd02189-5128-48dd-a92e-6c9cfda7cdf3",
   "metadata": {},
   "outputs": [
    {
     "name": "stdout",
     "output_type": "stream",
     "text": [
      "[0 1 2 3 4 5]\n"
     ]
    }
   ],
   "source": [
    "a = np. arange (6) #1d array\n",
    "print(a)"
   ]
  },
  {
   "cell_type": "code",
   "execution_count": 27,
   "id": "f0707862-3f4f-43f0-be29-ec9c9d05e1f2",
   "metadata": {},
   "outputs": [
    {
     "name": "stdout",
     "output_type": "stream",
     "text": [
      "[[ 0  1  2]\n",
      " [ 3  4  5]\n",
      " [ 6  7  8]\n",
      " [ 9 10 11]]\n"
     ]
    }
   ],
   "source": [
    "b = np.arange(12).reshape(4,3) # 2d array\n",
    "print(b)"
   ]
  },
  {
   "cell_type": "code",
   "execution_count": 29,
   "id": "c9fc15f5-726e-4c6a-913f-63b43dac7c7d",
   "metadata": {},
   "outputs": [
    {
     "name": "stdout",
     "output_type": "stream",
     "text": [
      "[[[ 0  1  2  3]\n",
      "  [ 4  5  6  7]\n",
      "  [ 8  9 10 11]]\n",
      "\n",
      " [[12 13 14 15]\n",
      "  [16 17 18 19]\n",
      "  [20 21 22 23]]]\n"
     ]
    }
   ],
   "source": [
    "c = np. arange (24) . reshape (2 ,3 ,4) # 3d array\n",
    "print(c)"
   ]
  },
  {
   "cell_type": "markdown",
   "id": "a40479c1-dbfa-4b63-a480-ca6176aa4212",
   "metadata": {},
   "source": [
    "Jika array terlalu besar untuk ditampilkan, NumPy secara otomatis memotong bagian tengah array dan hanya mencetak ujung-ujungnya:"
   ]
  },
  {
   "cell_type": "code",
   "execution_count": 30,
   "id": "cf517340-743a-4cdb-8c55-6ecb175fb353",
   "metadata": {},
   "outputs": [
    {
     "name": "stdout",
     "output_type": "stream",
     "text": [
      "[   0    1    2 ... 9997 9998 9999]\n"
     ]
    }
   ],
   "source": [
    "print (np. arange (10000) )"
   ]
  },
  {
   "cell_type": "code",
   "execution_count": 31,
   "id": "a299a582-23af-4a1a-af14-7aa3d8949cf2",
   "metadata": {},
   "outputs": [
    {
     "name": "stdout",
     "output_type": "stream",
     "text": [
      "[[   0    1    2 ...   97   98   99]\n",
      " [ 100  101  102 ...  197  198  199]\n",
      " [ 200  201  202 ...  297  298  299]\n",
      " ...\n",
      " [9700 9701 9702 ... 9797 9798 9799]\n",
      " [9800 9801 9802 ... 9897 9898 9899]\n",
      " [9900 9901 9902 ... 9997 9998 9999]]\n"
     ]
    }
   ],
   "source": [
    "print (np. arange (10000) . reshape (100 ,100) )"
   ]
  },
  {
   "cell_type": "markdown",
   "id": "33058bff-0791-40cd-8b9d-5500dd16c1c9",
   "metadata": {},
   "source": [
    "Untuk memaksa NumPy mencetak seluruh bagian array, kita dapat mengubah opsi print menggunakan set_printoptions."
   ]
  },
  {
   "cell_type": "markdown",
   "id": "907ee768-28b4-4f1e-b1d0-d3b4e5dc04cc",
   "metadata": {},
   "source": [
    "np.set_printoptions ( threshold =’nan’)"
   ]
  },
  {
   "cell_type": "code",
   "execution_count": null,
   "id": "f91c349f-0a00-4276-96a6-b19d39362640",
   "metadata": {},
   "outputs": [],
   "source": []
  }
 ],
 "metadata": {
  "kernelspec": {
   "display_name": "Python 3 (ipykernel)",
   "language": "python",
   "name": "python3"
  },
  "language_info": {
   "codemirror_mode": {
    "name": "ipython",
    "version": 3
   },
   "file_extension": ".py",
   "mimetype": "text/x-python",
   "name": "python",
   "nbconvert_exporter": "python",
   "pygments_lexer": "ipython3",
   "version": "3.10.2"
  }
 },
 "nbformat": 4,
 "nbformat_minor": 5
}
