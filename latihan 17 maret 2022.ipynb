{
 "cells": [
  {
   "cell_type": "markdown",
   "id": "8d0138b8-a39b-4468-8ec5-b34b72b7e21f",
   "metadata": {},
   "source": [
    "AMELIA NURMADANI (200601110087)"
   ]
  },
  {
   "cell_type": "markdown",
   "id": "b9f1d4e2-e9da-41e2-920e-85afa5fd8bd6",
   "metadata": {},
   "source": [
    "Buatlah program yang meminta masukan user sebuah bilangan bulat N dimana (N > 0). Program kemudian menampilkan penjumlahan N bilangan genap positif pertama (bilangan genap ≥ 0)."
   ]
  },
  {
   "cell_type": "code",
   "execution_count": 1,
   "id": "0216d091-00e5-44a2-a440-326336b8a043",
   "metadata": {},
   "outputs": [
    {
     "name": "stdin",
     "output_type": "stream",
     "text": [
      "Masukkan banyak N pertama bilangan genap :  4\n"
     ]
    },
    {
     "name": "stdout",
     "output_type": "stream",
     "text": [
      "Daftar Bilangan Genap\n",
      "===========================================================================\n",
      "0 2 4 6 \n",
      "===========================================================================\n",
      "Hasil Perhitungan\n",
      "===========================================================================\n",
      "Bilangan di atas ada 4 bilangan genap\n",
      "Total dari keseluruhan bilangan genap pertama adalah 12\n"
     ]
    }
   ],
   "source": [
    "n = int(input(\"Masukkan banyak N pertama bilangan genap : \"))\n",
    "count = 0\n",
    "summ = 0\n",
    "print(\"Daftar Bilangan Genap\")\n",
    "print(\"=\" * 75)\n",
    "for i in range(n+(n-1)) :\n",
    "    if i % 2 == 0 :\n",
    "        print (i, end= ' ')\n",
    "        count = count + 1\n",
    "        summ = summ + i\n",
    "                \n",
    "print()\n",
    "print(\"=\" *75)\n",
    "print(\"Hasil Perhitungan\")\n",
    "print(\"=\" *75)\n",
    "print('Bilangan di atas ada %d bilangan genap' %count)\n",
    "print ('Total dari keseluruhan bilangan genap pertama adalah %d' %summ)"
   ]
  },
  {
   "cell_type": "markdown",
   "id": "af45bb59-9425-44d5-b53d-1946beaf00e9",
   "metadata": {},
   "source": [
    "Buatlah sebuah program yang meminta masukan user sebuah bilangan bulat N\n",
    "dimana (N > 0). Kemudian, program menampilkan penjumlahan N bilangan\n",
    "kuadrat pertama. Bilangan kuadrat adalah = 1, 4, 9, 16, 25, 36, ...., N2."
   ]
  },
  {
   "cell_type": "code",
   "execution_count": 2,
   "id": "461ce239-1411-495c-8e8f-42e970a96d56",
   "metadata": {},
   "outputs": [
    {
     "name": "stdin",
     "output_type": "stream",
     "text": [
      "Masukkan banyak N :  5\n"
     ]
    },
    {
     "name": "stdout",
     "output_type": "stream",
     "text": [
      "Daftar Bilangan Kuadrat\n",
      "===========================================================================\n",
      "1 4 9 16 25 \n",
      "===========================================================================\n",
      "Hasil Perhitungan\n",
      "===========================================================================\n",
      "Bilangan di atas ada 5 bilangan\n",
      "Total dari keseluruhan bilangan kuadrat adalah 55\n"
     ]
    }
   ],
   "source": [
    "n = int(input(\"Masukkan banyak N : \"))\n",
    "count = 0\n",
    "summ = 0\n",
    "print(\"Daftar Bilangan Kuadrat\")\n",
    "print(\"=\" * 75)\n",
    "for i in range(n+1) :\n",
    "    if i != 0:\n",
    "        print (i*i, end= ' ')\n",
    "        count = count + 1\n",
    "        summ = summ + i*i\n",
    "                \n",
    "print()\n",
    "print(\"=\" *75)\n",
    "print(\"Hasil Perhitungan\")\n",
    "print(\"=\" *75)\n",
    "print('Bilangan di atas ada %d bilangan' %count)\n",
    "print ('Total dari keseluruhan bilangan kuadrat adalah %d' %summ)"
   ]
  },
  {
   "cell_type": "markdown",
   "id": "b78621dd-6e50-4e58-a4bd-fba68fded518",
   "metadata": {},
   "source": [
    "Buatlah sebuah program yang meminta masukan user sebuah bilangan bulat N\n",
    "dimana (N > 0). Program kemudian memeriksa setiap digit yang ada di angka\n",
    "tersebut, dan menampilkan berapa jumlah digit yang ganjil dari bilangan N tersebut.\n"
   ]
  },
  {
   "cell_type": "code",
   "execution_count": 3,
   "id": "9be221eb-d273-4b11-a754-dd02f79298ec",
   "metadata": {},
   "outputs": [
    {
     "name": "stdin",
     "output_type": "stream",
     "text": [
      "Masukkan semua bilangam N :  5\n",
      "Masukkan bilangan  :  1\n",
      "Masukkan bilangan  :  2\n",
      "Masukkan bilangan  :  3\n",
      "Masukkan bilangan  :  4\n",
      "Masukkan bilangan  :  5\n"
     ]
    },
    {
     "name": "stdout",
     "output_type": "stream",
     "text": [
      "Daftar Bilangan Ganjil\n",
      "===========================================================================\n",
      "1 3 5 \n",
      "===========================================================================\n",
      "Bilangan di atas ada 3 bilangan ganjil\n"
     ]
    }
   ],
   "source": [
    "n=int(input(\"Masukkan semua bilangam N : \"))\n",
    "num_list = []\n",
    "for x in range (n) :\n",
    "    a = int(input(\"Masukkan bilangan  : \" ))\n",
    "    num_list.append(a)\n",
    "count = 0\n",
    "print(\"Daftar Bilangan Ganjil\")\n",
    "print(\"=\" * 75)\n",
    "for i in range(a+1) :\n",
    "    if i % 2 == 1 :\n",
    "        print (i, end= ' ')\n",
    "        count = count + 1\n",
    "        \n",
    "print()\n",
    "print(\"=\" *75)\n",
    "print('Bilangan di atas ada %d bilangan ganjil' %count)"
   ]
  },
  {
   "cell_type": "code",
   "execution_count": null,
   "id": "cc54506e-625c-4098-bcf5-6555afce73f3",
   "metadata": {},
   "outputs": [],
   "source": []
  }
 ],
 "metadata": {
  "kernelspec": {
   "display_name": "Python 3 (ipykernel)",
   "language": "python",
   "name": "python3"
  },
  "language_info": {
   "codemirror_mode": {
    "name": "ipython",
    "version": 3
   },
   "file_extension": ".py",
   "mimetype": "text/x-python",
   "name": "python",
   "nbconvert_exporter": "python",
   "pygments_lexer": "ipython3",
   "version": "3.10.2"
  }
 },
 "nbformat": 4,
 "nbformat_minor": 5
}
