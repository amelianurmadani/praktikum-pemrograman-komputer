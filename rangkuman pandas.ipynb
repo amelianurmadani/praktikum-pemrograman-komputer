{
 "cells": [
  {
   "cell_type": "markdown",
   "id": "75a16913-2576-46eb-ade9-79105ce21dd9",
   "metadata": {},
   "source": [
    "Nama: Amelia Nurmadani, NIM: 200601110087"
   ]
  },
  {
   "cell_type": "markdown",
   "id": "d2b4d89a-f98e-4cbe-a8d6-228af241c9a7",
   "metadata": {},
   "source": [
    "Pandas adalah sebuah library berlisensi BSD dan open source yang menyediakan struktur data dan analisis data yang mudah digunakan dan berkinerja tinggi untuk bahasa pemrograman Python."
   ]
  },
  {
   "cell_type": "markdown",
   "id": "920221c7-7fbe-4d63-a7df-11da927514a4",
   "metadata": {},
   "source": [
    "DataFrame"
   ]
  },
  {
   "cell_type": "markdown",
   "id": "a835aec0-fc49-4d6f-872d-6ac1f0ee1171",
   "metadata": {},
   "source": [
    "Struktur data dasar pandas dinamakan DataFrame. Koleksi kolom berurutan dengan bentuk sebuah tabel yang tampak seperti database dimana sebuah baris tunggal mewakili atribut tertentu. Dengan adanya fitur DataFrame memudahkan untuk memebaca sebua file dan menjadikannya table."
   ]
  },
  {
   "cell_type": "markdown",
   "id": "8d62c62b-75da-44a4-a33e-4aa446289234",
   "metadata": {},
   "source": [
    "Apa saja yang bisa dilakukan pandas? "
   ]
  },
  {
   "cell_type": "markdown",
   "id": "5bfdb4b6-b7a4-437d-939a-841d32c124cc",
   "metadata": {},
   "source": [
    "1. read from and write to CSV, other file and databases.\n",
    "2. calculate statistics and answer questions about the data.\n",
    "3. clean the data by doing things like removing missing values and filtering rows or columns by some criteria visualize the data with help from matplotlib.\n",
    "4. dapat mengolah data dengan menggunakan operasi seperti join, distinct, group by, agregasi, dan teknik lainnya yang terdapat pada SQL."
   ]
  },
  {
   "cell_type": "markdown",
   "id": "7488ba80-dd82-4341-b3c2-d87001bbd216",
   "metadata": {},
   "source": [
    "Install dan Import"
   ]
  },
  {
   "cell_type": "markdown",
   "id": "327d5b6e-b5f0-43be-ba8a-41c3549075eb",
   "metadata": {},
   "source": [
    "- INSTAL: conda install pandas atau pip install pandas\n",
    "- IMPORT: import pandas, atau biasanya untuk menyingkat penulisan saat diakses maka diberi nama alias, misalnya \"pd\". import pandas as pd"
   ]
  },
  {
   "cell_type": "markdown",
   "id": "cd775c42-42a1-4a14-9000-109eb4c815b6",
   "metadata": {},
   "source": [
    "Komponen utama pandas.\n",
    "series dan dataframe. \n",
    "series adalah suatu kolom.\n",
    "dataframe adalah kumpulan series, dapat berupa tabel multidimensi."
   ]
  },
  {
   "cell_type": "markdown",
   "id": "d5eedd40-ee9e-41c4-bacf-a720789bf3a0",
   "metadata": {},
   "source": [
    "Pembuatan dataframe.\n",
    "Dataframe dapat terbentuk berasal dari hasil pembacaan data atau bisa juga dibuat sendiri. banyak cara untuk membuat dataframe, paling sederhana yaitu dengan menggunakan struktur data dict dalam python."
   ]
  },
  {
   "cell_type": "markdown",
   "id": "c35b2d6f-a5d1-48e4-9378-132e72859ff5",
   "metadata": {},
   "source": [
    "setiap (key, value) item di data terhubung dengan column dalam hasil akhir DataFrame. Index di dataframe ini otomatis terbentuk berupa angka 0-3"
   ]
  },
  {
   "cell_type": "markdown",
   "id": "3592401c-9951-4e77-9a7a-adbc6a05a371",
   "metadata": {},
   "source": [
    "penambahan index sesuai keinginan kita:"
   ]
  },
  {
   "cell_type": "markdown",
   "id": "cd0d3069-9fb7-420e-8d8f-142e0cfceb86",
   "metadata": {},
   "source": [
    "purchases = pd.DataFrame(data, index=['June', 'Robert', 'Lily', 'David'])"
   ]
  },
  {
   "cell_type": "markdown",
   "id": "2d16513f-b53b-4bf1-8298-076c72028e68",
   "metadata": {},
   "source": [
    "Fungsi lain\n",
    "1. df.head() #pengambilan 5 data pertama\n",
    "2. df.head(10) #pengambilan 10 data pertama\n",
    "3. df.tail(8) #pengambilan 8 data terakhir\n",
    "4. df.columns #menampilkan nama kolom\n",
    "5. df[['nama','alamat']] #pilih kolom tertentu\n",
    "6. mengacu ke data sebelumnya: \n",
    "    1. purchases[\"oranges\"].min() #data terkecil\n",
    "    2. purchases[\"oranges\"].max() #data terbesar\n",
    "    3. purchases[\"oranges\"].mean() #rata rata\n",
    "    4. purchases[\"oranges\"].sum() #jumlah\n",
    "    5. purchases[\"oranges\"].count() #cacah\n",
    "    6. purchases[purchases['oranges']==3] #filter data"
   ]
  },
  {
   "cell_type": "markdown",
   "id": "46330cbd-9a31-40d9-86a3-37c08206c753",
   "metadata": {},
   "source": [
    "Operator Logical"
   ]
  },
  {
   "cell_type": "markdown",
   "id": "0d4f51a0-49fd-4364-b55e-df00288323f0",
   "metadata": {},
   "source": [
    "logical operators | untuk \"or\" dan & untuk \"and\"."
   ]
  },
  {
   "cell_type": "markdown",
   "id": "9c4c817d-f5bf-4e94-a3c0-71be5da3d698",
   "metadata": {},
   "source": [
    "df[(df['jur']=='SI') | (df['jur']=='TI')].head()"
   ]
  },
  {
   "cell_type": "markdown",
   "id": "d4b2bf92-8b9e-496d-bc5a-44494dc62e3b",
   "metadata": {},
   "source": [
    "penggunaan isin"
   ]
  },
  {
   "cell_type": "markdown",
   "id": "9a3a34ff-5866-47e5-a6b6-bf69eb2f4438",
   "metadata": {},
   "source": [
    "df[df['jur'].isin([isin(['SI', 'TI'])].head()"
   ]
  },
  {
   "cell_type": "markdown",
   "id": "cb2952d3-9ce4-4e9c-8bbc-646f93b979cf",
   "metadata": {},
   "source": [
    "Mengimpor Pandas"
   ]
  },
  {
   "cell_type": "markdown",
   "id": "bf075f65-c914-4395-bf55-9064b3e68f4a",
   "metadata": {},
   "source": [
    "import pandas as pd"
   ]
  },
  {
   "cell_type": "markdown",
   "id": "096ccae7-1402-4883-95be-532ba0384bf0",
   "metadata": {},
   "source": [
    "Import txt. Siapkan dahulu file txt (dengan jarak antar data misal menggunakan tab) di folder yang sama dengan program."
   ]
  },
  {
   "cell_type": "markdown",
   "id": "f2efecd5-74d2-4e50-a4a5-ecdb865a0b62",
   "metadata": {},
   "source": [
    "contoh code: \n",
    " data1.pd.read_csv(\"data.txt\")\n",
    " print(data1)"
   ]
  },
  {
   "cell_type": "markdown",
   "id": "872482d8-cb18-4ec3-9e34-24910764955a",
   "metadata": {},
   "source": [
    "Import CSV. Siapkan dahulu file CSV di folder yang sama dengan program"
   ]
  },
  {
   "cell_type": "markdown",
   "id": "865ffb0d-792f-429d-a87f-a5d6d561165e",
   "metadata": {},
   "source": [
    "contoh code: data.pd.read_csv{\"data.txt\"}\n",
    "print{data}"
   ]
  },
  {
   "cell_type": "markdown",
   "id": "ac109eff-3e6d-46a5-9f9b-992e3eeff920",
   "metadata": {},
   "source": [
    "Import xlsx. Siapkan dahulu file xlsx di folder yang sama dengan program"
   ]
  },
  {
   "cell_type": "markdown",
   "id": "9397f3c7-3df1-4e45-8285-04be0c2b4c66",
   "metadata": {},
   "source": [
    "contoh code: data.pd.read_excel('data.xlsx')\n",
    "print(data)"
   ]
  },
  {
   "cell_type": "markdown",
   "id": "25f9a2ff-7738-4748-8573-c15a0a47c246",
   "metadata": {},
   "source": [
    "Membuat DataFrame sendiri"
   ]
  },
  {
   "cell_type": "code",
   "execution_count": 10,
   "id": "b1c8faca-c3cc-4c99-bb8d-9a8993f94b9b",
   "metadata": {},
   "outputs": [
    {
     "name": "stdout",
     "output_type": "stream",
     "text": [
      "Empty DataFrame\n",
      "Columns: []\n",
      "Index: []\n"
     ]
    }
   ],
   "source": [
    "import pandas as pd\n",
    "df = pd.DataFrame()\n",
    "print(df)"
   ]
  },
  {
   "cell_type": "code",
   "execution_count": 9,
   "id": "1bcfea92-b63a-4d25-b24a-49a558300c7c",
   "metadata": {},
   "outputs": [
    {
     "name": "stdout",
     "output_type": "stream",
     "text": [
      "   0\n",
      "0  1\n",
      "1  2\n",
      "2  3\n",
      "3  4\n",
      "4  5\n"
     ]
    }
   ],
   "source": [
    "import pandas as pd \n",
    "data = [1,2,3,4,5]\n",
    "df1 = pd.DataFrame(data)\n",
    "print(df1)"
   ]
  },
  {
   "cell_type": "code",
   "execution_count": 11,
   "id": "ed8dc5af-7f0b-428a-9c06-ef8def904266",
   "metadata": {},
   "outputs": [
    {
     "name": "stdout",
     "output_type": "stream",
     "text": [
      "       nama  usia\n",
      "0  purwanto    32\n",
      "1   purnomo    43\n",
      "2     purwo    55\n"
     ]
    }
   ],
   "source": [
    "import pandas as pd\n",
    "data = [['purwanto', 32],['purnomo',43],['purwo',55]]\n",
    "df2 = pd.DataFrame(data,columns=['nama','usia'])\n",
    "print(df2)"
   ]
  },
  {
   "cell_type": "markdown",
   "id": "813d9f2c-bd3a-4efa-aec4-475bf8388451",
   "metadata": {},
   "source": [
    "Memanggil data tertentu pada dataframe.misal kita memiliki dataframe sebagai berikut:"
   ]
  },
  {
   "cell_type": "code",
   "execution_count": 12,
   "id": "b2cec255-9500-4c43-b6e8-b2ec8aa342f9",
   "metadata": {},
   "outputs": [
    {
     "name": "stdout",
     "output_type": "stream",
     "text": [
      "       nama  usia\n",
      "0  purwanto    32\n",
      "1   purnomo    43\n",
      "2     purwo    55\n"
     ]
    }
   ],
   "source": [
    "import pandas as pd\n",
    "data = [['purwanto', 32],['purnomo',43],['purwo',55]]\n",
    "df2 = pd.DataFrame(data,columns=['nama','usia'])\n",
    "print(df2)"
   ]
  },
  {
   "cell_type": "markdown",
   "id": "fb682b9a-9f04-4279-8646-13ccdc50b85e",
   "metadata": {},
   "source": [
    "lalu kita ingin memanggil kolom tertentu"
   ]
  },
  {
   "cell_type": "code",
   "execution_count": 13,
   "id": "daa74972-9e49-4ab8-aa01-b93d29054b37",
   "metadata": {},
   "outputs": [
    {
     "data": {
      "text/plain": [
       "0    purwanto\n",
       "1     purnomo\n",
       "2       purwo\n",
       "Name: nama, dtype: object"
      ]
     },
     "execution_count": 13,
     "metadata": {},
     "output_type": "execute_result"
    }
   ],
   "source": [
    "df2['nama']"
   ]
  },
  {
   "cell_type": "code",
   "execution_count": 14,
   "id": "bf2e1ccd-e44c-4fbb-b209-13df16a655e6",
   "metadata": {},
   "outputs": [
    {
     "data": {
      "text/plain": [
       "0    32\n",
       "1    43\n",
       "2    55\n",
       "Name: usia, dtype: int64"
      ]
     },
     "execution_count": 14,
     "metadata": {},
     "output_type": "execute_result"
    }
   ],
   "source": [
    "df2['usia']"
   ]
  },
  {
   "cell_type": "code",
   "execution_count": 15,
   "id": "50280a1e-adc4-42f1-bc60-17062b80603f",
   "metadata": {},
   "outputs": [
    {
     "data": {
      "text/plain": [
       "'purwanto'"
      ]
     },
     "execution_count": 15,
     "metadata": {},
     "output_type": "execute_result"
    }
   ],
   "source": [
    "df2.iloc[0][0]"
   ]
  },
  {
   "cell_type": "code",
   "execution_count": 16,
   "id": "9b942547-b69c-425b-b8cd-18f82a41499a",
   "metadata": {},
   "outputs": [
    {
     "data": {
      "text/plain": [
       "'purwanto'"
      ]
     },
     "execution_count": 16,
     "metadata": {},
     "output_type": "execute_result"
    }
   ],
   "source": [
    "df2.iloc[0]['nama']"
   ]
  },
  {
   "cell_type": "code",
   "execution_count": 17,
   "id": "76d317da-ab3b-4a53-8ba7-9c9257fe1ae1",
   "metadata": {},
   "outputs": [
    {
     "data": {
      "text/plain": [
       "'purwanto'"
      ]
     },
     "execution_count": 17,
     "metadata": {},
     "output_type": "execute_result"
    }
   ],
   "source": [
    "df2.at[0,'nama']"
   ]
  },
  {
   "cell_type": "code",
   "execution_count": 18,
   "id": "de7cc31e-7561-41c9-8055-60aeb3f3e9f5",
   "metadata": {},
   "outputs": [
    {
     "data": {
      "text/plain": [
       "'purwanto'"
      ]
     },
     "execution_count": 18,
     "metadata": {},
     "output_type": "execute_result"
    }
   ],
   "source": [
    "df2.iat[0,0]"
   ]
  },
  {
   "cell_type": "code",
   "execution_count": 19,
   "id": "939970d7-ce9c-4a19-bbd9-888d970855f5",
   "metadata": {},
   "outputs": [
    {
     "data": {
      "text/plain": [
       "nama    purwanto\n",
       "usia          32\n",
       "Name: 0, dtype: object"
      ]
     },
     "execution_count": 19,
     "metadata": {},
     "output_type": "execute_result"
    }
   ],
   "source": [
    "df2.iloc[0]"
   ]
  },
  {
   "cell_type": "code",
   "execution_count": 20,
   "id": "deda80a8-c27e-459b-a58a-67cbdc405315",
   "metadata": {},
   "outputs": [
    {
     "data": {
      "text/plain": [
       "0    purwanto\n",
       "1     purnomo\n",
       "2       purwo\n",
       "Name: nama, dtype: object"
      ]
     },
     "execution_count": 20,
     "metadata": {},
     "output_type": "execute_result"
    }
   ],
   "source": [
    "df2.loc[:,'nama']"
   ]
  },
  {
   "cell_type": "markdown",
   "id": "ade752ce-f015-4030-8b9f-50cc8d0ad77e",
   "metadata": {},
   "source": [
    "Set Index"
   ]
  },
  {
   "cell_type": "code",
   "execution_count": 22,
   "id": "81dc2906-02fe-4cc8-b822-9e5414952fb0",
   "metadata": {},
   "outputs": [
    {
     "data": {
      "text/html": [
       "<div>\n",
       "<style scoped>\n",
       "    .dataframe tbody tr th:only-of-type {\n",
       "        vertical-align: middle;\n",
       "    }\n",
       "\n",
       "    .dataframe tbody tr th {\n",
       "        vertical-align: top;\n",
       "    }\n",
       "\n",
       "    .dataframe thead th {\n",
       "        text-align: right;\n",
       "    }\n",
       "</style>\n",
       "<table border=\"1\" class=\"dataframe\">\n",
       "  <thead>\n",
       "    <tr style=\"text-align: right;\">\n",
       "      <th></th>\n",
       "      <th>nama</th>\n",
       "      <th>usia</th>\n",
       "    </tr>\n",
       "  </thead>\n",
       "  <tbody>\n",
       "    <tr>\n",
       "      <th>0</th>\n",
       "      <td>purwanto</td>\n",
       "      <td>32</td>\n",
       "    </tr>\n",
       "    <tr>\n",
       "      <th>1</th>\n",
       "      <td>purnomo</td>\n",
       "      <td>43</td>\n",
       "    </tr>\n",
       "    <tr>\n",
       "      <th>2</th>\n",
       "      <td>purwo</td>\n",
       "      <td>55</td>\n",
       "    </tr>\n",
       "  </tbody>\n",
       "</table>\n",
       "</div>"
      ],
      "text/plain": [
       "       nama  usia\n",
       "0  purwanto    32\n",
       "1   purnomo    43\n",
       "2     purwo    55"
      ]
     },
     "execution_count": 22,
     "metadata": {},
     "output_type": "execute_result"
    }
   ],
   "source": [
    "df3 = pd.DataFrame([['purwanto',32],['purnomo',43],['purwo',55]],columns=['nama','usia'])\n",
    "df3"
   ]
  },
  {
   "cell_type": "code",
   "execution_count": 23,
   "id": "2d8c2b21-cd44-41f0-84a9-b3e52d744fef",
   "metadata": {},
   "outputs": [
    {
     "data": {
      "text/html": [
       "<div>\n",
       "<style scoped>\n",
       "    .dataframe tbody tr th:only-of-type {\n",
       "        vertical-align: middle;\n",
       "    }\n",
       "\n",
       "    .dataframe tbody tr th {\n",
       "        vertical-align: top;\n",
       "    }\n",
       "\n",
       "    .dataframe thead th {\n",
       "        text-align: right;\n",
       "    }\n",
       "</style>\n",
       "<table border=\"1\" class=\"dataframe\">\n",
       "  <thead>\n",
       "    <tr style=\"text-align: right;\">\n",
       "      <th></th>\n",
       "      <th>usia</th>\n",
       "    </tr>\n",
       "    <tr>\n",
       "      <th>nama</th>\n",
       "      <th></th>\n",
       "    </tr>\n",
       "  </thead>\n",
       "  <tbody>\n",
       "    <tr>\n",
       "      <th>purwanto</th>\n",
       "      <td>32</td>\n",
       "    </tr>\n",
       "    <tr>\n",
       "      <th>purnomo</th>\n",
       "      <td>43</td>\n",
       "    </tr>\n",
       "    <tr>\n",
       "      <th>purwo</th>\n",
       "      <td>55</td>\n",
       "    </tr>\n",
       "  </tbody>\n",
       "</table>\n",
       "</div>"
      ],
      "text/plain": [
       "          usia\n",
       "nama          \n",
       "purwanto    32\n",
       "purnomo     43\n",
       "purwo       55"
      ]
     },
     "execution_count": 23,
     "metadata": {},
     "output_type": "execute_result"
    }
   ],
   "source": [
    "df3.set_index('nama')"
   ]
  },
  {
   "cell_type": "markdown",
   "id": "3f77fcf4-4065-44ec-afe4-da2f86f28a89",
   "metadata": {},
   "source": [
    "Pemanggil baris"
   ]
  },
  {
   "cell_type": "code",
   "execution_count": 25,
   "id": "8d984d08-6c46-4083-8e5b-59c0bf5f8ac6",
   "metadata": {},
   "outputs": [
    {
     "data": {
      "text/html": [
       "<div>\n",
       "<style scoped>\n",
       "    .dataframe tbody tr th:only-of-type {\n",
       "        vertical-align: middle;\n",
       "    }\n",
       "\n",
       "    .dataframe tbody tr th {\n",
       "        vertical-align: top;\n",
       "    }\n",
       "\n",
       "    .dataframe thead th {\n",
       "        text-align: right;\n",
       "    }\n",
       "</style>\n",
       "<table border=\"1\" class=\"dataframe\">\n",
       "  <thead>\n",
       "    <tr style=\"text-align: right;\">\n",
       "      <th></th>\n",
       "      <th>48</th>\n",
       "      <th>49</th>\n",
       "      <th>50</th>\n",
       "    </tr>\n",
       "  </thead>\n",
       "  <tbody>\n",
       "    <tr>\n",
       "      <th>2</th>\n",
       "      <td>1</td>\n",
       "      <td>2</td>\n",
       "      <td>3</td>\n",
       "    </tr>\n",
       "    <tr>\n",
       "      <th>A</th>\n",
       "      <td>4</td>\n",
       "      <td>5</td>\n",
       "      <td>6</td>\n",
       "    </tr>\n",
       "    <tr>\n",
       "      <th>4</th>\n",
       "      <td>7</td>\n",
       "      <td>8</td>\n",
       "      <td>9</td>\n",
       "    </tr>\n",
       "  </tbody>\n",
       "</table>\n",
       "</div>"
      ],
      "text/plain": [
       "   48  49  50\n",
       "2   1   2   3\n",
       "A   4   5   6\n",
       "4   7   8   9"
      ]
     },
     "execution_count": 25,
     "metadata": {},
     "output_type": "execute_result"
    }
   ],
   "source": [
    "import pandas as pd\n",
    "import numpy as np\n",
    "df4 = pd.DataFrame(data=np.array([[1,2,3], [4,5,6], [7,8,9]]), index= [2,'A',4], columns=[48,49,50])\n",
    "df4"
   ]
  },
  {
   "cell_type": "code",
   "execution_count": 26,
   "id": "fe9d4922-5909-423d-b667-02860d046271",
   "metadata": {},
   "outputs": [
    {
     "data": {
      "text/plain": [
       "48    1\n",
       "49    2\n",
       "50    3\n",
       "Name: 2, dtype: int32"
      ]
     },
     "execution_count": 26,
     "metadata": {},
     "output_type": "execute_result"
    }
   ],
   "source": [
    "df4.loc[2]"
   ]
  },
  {
   "cell_type": "code",
   "execution_count": 27,
   "id": "f75cfb27-009e-4bf1-a437-fa72002c7925",
   "metadata": {},
   "outputs": [
    {
     "data": {
      "text/plain": [
       "48    7\n",
       "49    8\n",
       "50    9\n",
       "Name: 4, dtype: int32"
      ]
     },
     "execution_count": 27,
     "metadata": {},
     "output_type": "execute_result"
    }
   ],
   "source": [
    "df4.iloc[2]"
   ]
  },
  {
   "cell_type": "markdown",
   "id": "9f7f460e-d693-49a2-a503-628d985cda98",
   "metadata": {},
   "source": [
    "Menambah Kolom"
   ]
  },
  {
   "cell_type": "code",
   "execution_count": 28,
   "id": "691c432a-2ba8-4e1f-bc3b-bf0a609c9007",
   "metadata": {},
   "outputs": [
    {
     "data": {
      "text/html": [
       "<div>\n",
       "<style scoped>\n",
       "    .dataframe tbody tr th:only-of-type {\n",
       "        vertical-align: middle;\n",
       "    }\n",
       "\n",
       "    .dataframe tbody tr th {\n",
       "        vertical-align: top;\n",
       "    }\n",
       "\n",
       "    .dataframe thead th {\n",
       "        text-align: right;\n",
       "    }\n",
       "</style>\n",
       "<table border=\"1\" class=\"dataframe\">\n",
       "  <thead>\n",
       "    <tr style=\"text-align: right;\">\n",
       "      <th></th>\n",
       "      <th>nama</th>\n",
       "      <th>usia</th>\n",
       "      <th>index</th>\n",
       "    </tr>\n",
       "  </thead>\n",
       "  <tbody>\n",
       "    <tr>\n",
       "      <th>0</th>\n",
       "      <td>purwanto</td>\n",
       "      <td>32</td>\n",
       "      <td>0</td>\n",
       "    </tr>\n",
       "    <tr>\n",
       "      <th>1</th>\n",
       "      <td>purnomo</td>\n",
       "      <td>43</td>\n",
       "      <td>1</td>\n",
       "    </tr>\n",
       "    <tr>\n",
       "      <th>2</th>\n",
       "      <td>purwo</td>\n",
       "      <td>55</td>\n",
       "      <td>2</td>\n",
       "    </tr>\n",
       "  </tbody>\n",
       "</table>\n",
       "</div>"
      ],
      "text/plain": [
       "       nama  usia  index\n",
       "0  purwanto    32      0\n",
       "1   purnomo    43      1\n",
       "2     purwo    55      2"
      ]
     },
     "execution_count": 28,
     "metadata": {},
     "output_type": "execute_result"
    }
   ],
   "source": [
    "#menambah index di kolom baru\n",
    "df5 = pd.DataFrame([['purwanto',32],['purnomo',43],['purwo',55]],columns=['nama','usia'])\n",
    "df5['index']=df5.index\n",
    "df5"
   ]
  },
  {
   "cell_type": "code",
   "execution_count": 30,
   "id": "6006fde8-a261-4934-b13d-ab1704c69dd9",
   "metadata": {},
   "outputs": [
    {
     "data": {
      "text/html": [
       "<div>\n",
       "<style scoped>\n",
       "    .dataframe tbody tr th:only-of-type {\n",
       "        vertical-align: middle;\n",
       "    }\n",
       "\n",
       "    .dataframe tbody tr th {\n",
       "        vertical-align: top;\n",
       "    }\n",
       "\n",
       "    .dataframe thead th {\n",
       "        text-align: right;\n",
       "    }\n",
       "</style>\n",
       "<table border=\"1\" class=\"dataframe\">\n",
       "  <thead>\n",
       "    <tr style=\"text-align: right;\">\n",
       "      <th></th>\n",
       "      <th>nama</th>\n",
       "      <th>usia</th>\n",
       "      <th>index</th>\n",
       "      <th>gender</th>\n",
       "    </tr>\n",
       "  </thead>\n",
       "  <tbody>\n",
       "    <tr>\n",
       "      <th>0</th>\n",
       "      <td>purwanto</td>\n",
       "      <td>32</td>\n",
       "      <td>0</td>\n",
       "      <td>L</td>\n",
       "    </tr>\n",
       "    <tr>\n",
       "      <th>1</th>\n",
       "      <td>purnomo</td>\n",
       "      <td>43</td>\n",
       "      <td>1</td>\n",
       "      <td>L</td>\n",
       "    </tr>\n",
       "    <tr>\n",
       "      <th>2</th>\n",
       "      <td>purwo</td>\n",
       "      <td>55</td>\n",
       "      <td>2</td>\n",
       "      <td>L</td>\n",
       "    </tr>\n",
       "  </tbody>\n",
       "</table>\n",
       "</div>"
      ],
      "text/plain": [
       "       nama  usia  index gender\n",
       "0  purwanto    32      0      L\n",
       "1   purnomo    43      1      L\n",
       "2     purwo    55      2      L"
      ]
     },
     "execution_count": 30,
     "metadata": {},
     "output_type": "execute_result"
    }
   ],
   "source": [
    "#menambahkan kolom dengan isian baru\n",
    "df5.loc[:,'gender'] = pd.Series(['L','L','L'])\n",
    "df5"
   ]
  },
  {
   "cell_type": "markdown",
   "id": "0c51ddfb-4f13-415c-a93e-e06d1b8bbe9c",
   "metadata": {},
   "source": [
    "Melihat ukuran DataFrame"
   ]
  },
  {
   "cell_type": "code",
   "execution_count": 31,
   "id": "211b0b69-bc9e-4571-87b4-3fa0de869ec4",
   "metadata": {},
   "outputs": [
    {
     "data": {
      "text/plain": [
       "3"
      ]
     },
     "execution_count": 31,
     "metadata": {},
     "output_type": "execute_result"
    }
   ],
   "source": [
    "#ukuran baris paling panjang\n",
    "len(df2)"
   ]
  },
  {
   "cell_type": "code",
   "execution_count": 32,
   "id": "bd182b61-f4d7-4a0c-a02b-e843b9f9553a",
   "metadata": {},
   "outputs": [
    {
     "data": {
      "text/plain": [
       "3"
      ]
     },
     "execution_count": 32,
     "metadata": {},
     "output_type": "execute_result"
    }
   ],
   "source": [
    "#ukuran baris pada kolom tertentu\n",
    "len(df2['nama'])"
   ]
  },
  {
   "cell_type": "code",
   "execution_count": 33,
   "id": "ecd5c419-d2ba-4f3e-bbd1-a435543715b2",
   "metadata": {},
   "outputs": [
    {
     "name": "stdout",
     "output_type": "stream",
     "text": [
      "(3, 2)\n"
     ]
    }
   ],
   "source": [
    "#ukuran baris, ukuran kolom dataframe\n",
    "print(df2.shape)"
   ]
  },
  {
   "cell_type": "markdown",
   "id": "e820d285-3698-4e56-9508-d2c1c9f5dfae",
   "metadata": {},
   "source": [
    "Menghapus"
   ]
  },
  {
   "cell_type": "code",
   "execution_count": 34,
   "id": "91d67c67-fa8e-4459-9ef2-e2e2716f660a",
   "metadata": {},
   "outputs": [
    {
     "data": {
      "text/html": [
       "<div>\n",
       "<style scoped>\n",
       "    .dataframe tbody tr th:only-of-type {\n",
       "        vertical-align: middle;\n",
       "    }\n",
       "\n",
       "    .dataframe tbody tr th {\n",
       "        vertical-align: top;\n",
       "    }\n",
       "\n",
       "    .dataframe thead th {\n",
       "        text-align: right;\n",
       "    }\n",
       "</style>\n",
       "<table border=\"1\" class=\"dataframe\">\n",
       "  <thead>\n",
       "    <tr style=\"text-align: right;\">\n",
       "      <th></th>\n",
       "      <th>nama</th>\n",
       "      <th>usia</th>\n",
       "    </tr>\n",
       "  </thead>\n",
       "  <tbody>\n",
       "    <tr>\n",
       "      <th>0</th>\n",
       "      <td>purwanto</td>\n",
       "      <td>32</td>\n",
       "    </tr>\n",
       "    <tr>\n",
       "      <th>1</th>\n",
       "      <td>purnomo</td>\n",
       "      <td>43</td>\n",
       "    </tr>\n",
       "    <tr>\n",
       "      <th>2</th>\n",
       "      <td>purwo</td>\n",
       "      <td>55</td>\n",
       "    </tr>\n",
       "  </tbody>\n",
       "</table>\n",
       "</div>"
      ],
      "text/plain": [
       "       nama  usia\n",
       "0  purwanto    32\n",
       "1   purnomo    43\n",
       "2     purwo    55"
      ]
     },
     "execution_count": 34,
     "metadata": {},
     "output_type": "execute_result"
    }
   ],
   "source": [
    "df6 = pd.DataFrame([['purwanto',32],['purnomo',43],['purwo',55]],columns=['nama','usia'])\n",
    "df6"
   ]
  },
  {
   "cell_type": "code",
   "execution_count": 35,
   "id": "36cc69eb-8e01-4c30-ab34-6852103cacb0",
   "metadata": {},
   "outputs": [
    {
     "data": {
      "text/html": [
       "<div>\n",
       "<style scoped>\n",
       "    .dataframe tbody tr th:only-of-type {\n",
       "        vertical-align: middle;\n",
       "    }\n",
       "\n",
       "    .dataframe tbody tr th {\n",
       "        vertical-align: top;\n",
       "    }\n",
       "\n",
       "    .dataframe thead th {\n",
       "        text-align: right;\n",
       "    }\n",
       "</style>\n",
       "<table border=\"1\" class=\"dataframe\">\n",
       "  <thead>\n",
       "    <tr style=\"text-align: right;\">\n",
       "      <th></th>\n",
       "      <th>usia</th>\n",
       "    </tr>\n",
       "  </thead>\n",
       "  <tbody>\n",
       "    <tr>\n",
       "      <th>0</th>\n",
       "      <td>32</td>\n",
       "    </tr>\n",
       "    <tr>\n",
       "      <th>1</th>\n",
       "      <td>43</td>\n",
       "    </tr>\n",
       "    <tr>\n",
       "      <th>2</th>\n",
       "      <td>55</td>\n",
       "    </tr>\n",
       "  </tbody>\n",
       "</table>\n",
       "</div>"
      ],
      "text/plain": [
       "   usia\n",
       "0    32\n",
       "1    43\n",
       "2    55"
      ]
     },
     "execution_count": 35,
     "metadata": {},
     "output_type": "execute_result"
    }
   ],
   "source": [
    "#menghapus kolom\n",
    "del df6['nama']\n",
    "df6"
   ]
  },
  {
   "cell_type": "code",
   "execution_count": 36,
   "id": "5b7c8407-ce8d-426d-9b52-a7a9a1941584",
   "metadata": {},
   "outputs": [
    {
     "data": {
      "text/html": [
       "<div>\n",
       "<style scoped>\n",
       "    .dataframe tbody tr th:only-of-type {\n",
       "        vertical-align: middle;\n",
       "    }\n",
       "\n",
       "    .dataframe tbody tr th {\n",
       "        vertical-align: top;\n",
       "    }\n",
       "\n",
       "    .dataframe thead th {\n",
       "        text-align: right;\n",
       "    }\n",
       "</style>\n",
       "<table border=\"1\" class=\"dataframe\">\n",
       "  <thead>\n",
       "    <tr style=\"text-align: right;\">\n",
       "      <th></th>\n",
       "      <th>usia</th>\n",
       "    </tr>\n",
       "  </thead>\n",
       "  <tbody>\n",
       "    <tr>\n",
       "      <th>2</th>\n",
       "      <td>55</td>\n",
       "    </tr>\n",
       "  </tbody>\n",
       "</table>\n",
       "</div>"
      ],
      "text/plain": [
       "   usia\n",
       "2    55"
      ]
     },
     "execution_count": 36,
     "metadata": {},
     "output_type": "execute_result"
    }
   ],
   "source": [
    "#menghapus n baris di awal\n",
    "df6=df6[2:]\n",
    "df6"
   ]
  },
  {
   "cell_type": "code",
   "execution_count": 37,
   "id": "5adcd9b0-06c8-43ea-a3b6-81741be3ed8b",
   "metadata": {},
   "outputs": [
    {
     "data": {
      "text/html": [
       "<div>\n",
       "<style scoped>\n",
       "    .dataframe tbody tr th:only-of-type {\n",
       "        vertical-align: middle;\n",
       "    }\n",
       "\n",
       "    .dataframe tbody tr th {\n",
       "        vertical-align: top;\n",
       "    }\n",
       "\n",
       "    .dataframe thead th {\n",
       "        text-align: right;\n",
       "    }\n",
       "</style>\n",
       "<table border=\"1\" class=\"dataframe\">\n",
       "  <thead>\n",
       "    <tr style=\"text-align: right;\">\n",
       "      <th></th>\n",
       "      <th>nama</th>\n",
       "      <th>usia</th>\n",
       "    </tr>\n",
       "  </thead>\n",
       "  <tbody>\n",
       "    <tr>\n",
       "      <th>0</th>\n",
       "      <td>purwanto</td>\n",
       "      <td>32</td>\n",
       "    </tr>\n",
       "    <tr>\n",
       "      <th>1</th>\n",
       "      <td>purnomo</td>\n",
       "      <td>43</td>\n",
       "    </tr>\n",
       "    <tr>\n",
       "      <th>2</th>\n",
       "      <td>purwo</td>\n",
       "      <td>55</td>\n",
       "    </tr>\n",
       "  </tbody>\n",
       "</table>\n",
       "</div>"
      ],
      "text/plain": [
       "       nama  usia\n",
       "0  purwanto    32\n",
       "1   purnomo    43\n",
       "2     purwo    55"
      ]
     },
     "execution_count": 37,
     "metadata": {},
     "output_type": "execute_result"
    }
   ],
   "source": [
    "df6 = pd.DataFrame([['purwanto',32],['purnomo',43],['purwo',55]],columns=['nama','usia'])\n",
    "df6"
   ]
  },
  {
   "cell_type": "code",
   "execution_count": 38,
   "id": "ba0d2704-2e23-426f-acd0-472fca13e0a0",
   "metadata": {},
   "outputs": [
    {
     "data": {
      "text/html": [
       "<div>\n",
       "<style scoped>\n",
       "    .dataframe tbody tr th:only-of-type {\n",
       "        vertical-align: middle;\n",
       "    }\n",
       "\n",
       "    .dataframe tbody tr th {\n",
       "        vertical-align: top;\n",
       "    }\n",
       "\n",
       "    .dataframe thead th {\n",
       "        text-align: right;\n",
       "    }\n",
       "</style>\n",
       "<table border=\"1\" class=\"dataframe\">\n",
       "  <thead>\n",
       "    <tr style=\"text-align: right;\">\n",
       "      <th></th>\n",
       "      <th>nama</th>\n",
       "      <th>usia</th>\n",
       "    </tr>\n",
       "  </thead>\n",
       "  <tbody>\n",
       "    <tr>\n",
       "      <th>1</th>\n",
       "      <td>purnomo</td>\n",
       "      <td>43</td>\n",
       "    </tr>\n",
       "  </tbody>\n",
       "</table>\n",
       "</div>"
      ],
      "text/plain": [
       "      nama  usia\n",
       "1  purnomo    43"
      ]
     },
     "execution_count": 38,
     "metadata": {},
     "output_type": "execute_result"
    }
   ],
   "source": [
    "#menghapus baris tertentu\n",
    "df6=df6.drop(df6.index[[0,2]])\n",
    "df6"
   ]
  },
  {
   "cell_type": "markdown",
   "id": "bdda49fa-7730-490b-b343-6274833db02d",
   "metadata": {},
   "source": [
    "Ekspor DataFrame"
   ]
  },
  {
   "cell_type": "code",
   "execution_count": 1,
   "id": "e7eef70a-1fa0-4ff8-b869-d1817e03b1b5",
   "metadata": {},
   "outputs": [
    {
     "name": "stdout",
     "output_type": "stream",
     "text": [
      "[[ 1 32]\n",
      " [ 2 43]\n",
      " [ 4 55]]\n"
     ]
    }
   ],
   "source": [
    "#import pandas dan numpy\n",
    "import pandas as pd\n",
    "import numpy as np\n",
    "#misal punya suatu dataframe\n",
    "data = [[1,32],[2,43],[4,55]]\n",
    "df = pd.DataFrame(data, columns=['nama','usia'])\n",
    "#convert ke numpy array\n",
    "databaru= df.to_numpy()\n",
    "print(databaru)\n",
    "#convert ke txt\n",
    "df.to_csv('dataexport.csv')\n"
   ]
  },
  {
   "cell_type": "code",
   "execution_count": null,
   "id": "fc2fb7b9-2efa-4fc8-b42f-3cdebcdd46ff",
   "metadata": {},
   "outputs": [],
   "source": []
  }
 ],
 "metadata": {
  "kernelspec": {
   "display_name": "Python 3 (ipykernel)",
   "language": "python",
   "name": "python3"
  },
  "language_info": {
   "codemirror_mode": {
    "name": "ipython",
    "version": 3
   },
   "file_extension": ".py",
   "mimetype": "text/x-python",
   "name": "python",
   "nbconvert_exporter": "python",
   "pygments_lexer": "ipython3",
   "version": "3.10.2"
  }
 },
 "nbformat": 4,
 "nbformat_minor": 5
}
