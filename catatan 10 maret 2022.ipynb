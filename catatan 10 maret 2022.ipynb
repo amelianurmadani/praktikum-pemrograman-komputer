{
 "cells": [
  {
   "cell_type": "code",
   "execution_count": 1,
   "id": "22f1181a-ad58-46b8-bc47-2d85b14a694c",
   "metadata": {},
   "outputs": [],
   "source": [
    "def kali (a,b):\n",
    "    c=a*b\n",
    "    return c # mengembalikan nilai ke baris pemanggil"
   ]
  },
  {
   "cell_type": "code",
   "execution_count": 2,
   "id": "b71b688d-387e-45f4-9928-78e12ccffd0b",
   "metadata": {},
   "outputs": [],
   "source": [
    "def tulis(s):\n",
    "    print(s)"
   ]
  },
  {
   "cell_type": "code",
   "execution_count": 3,
   "id": "b5a96f23-df17-4c76-b136-6f39bf332de0",
   "metadata": {},
   "outputs": [
    {
     "data": {
      "text/plain": [
       "50"
      ]
     },
     "execution_count": 3,
     "metadata": {},
     "output_type": "execute_result"
    }
   ],
   "source": [
    "z=kali(10,5)\n",
    "z"
   ]
  },
  {
   "cell_type": "code",
   "execution_count": 4,
   "id": "24155c3a-6f8a-41f0-97db-a227b787d894",
   "metadata": {},
   "outputs": [
    {
     "name": "stdout",
     "output_type": "stream",
     "text": [
      "Pemrograman Komputer I dengan Python\n"
     ]
    }
   ],
   "source": [
    "tulis('Pemrograman Komputer I dengan Python')"
   ]
  },
  {
   "cell_type": "code",
   "execution_count": 5,
   "id": "33ac44b6-3121-402e-a112-303aea9fa902",
   "metadata": {},
   "outputs": [
    {
     "name": "stdout",
     "output_type": "stream",
     "text": [
      "50\n"
     ]
    }
   ],
   "source": [
    "tulis(z)"
   ]
  },
  {
   "cell_type": "code",
   "execution_count": 9,
   "id": "2f987f30-a251-432f-9f4f-10d11ca98efa",
   "metadata": {},
   "outputs": [
    {
     "name": "stdin",
     "output_type": "stream",
     "text": [
      "masukkan nilai anda:  0\n"
     ]
    }
   ],
   "source": [
    "nilai = input(\"masukkan nilai anda: \")"
   ]
  },
  {
   "cell_type": "code",
   "execution_count": 10,
   "id": "03313fd1-8f8b-44b1-9d4e-0f136b6076f2",
   "metadata": {},
   "outputs": [
    {
     "name": "stdout",
     "output_type": "stream",
     "text": [
      "anda belum lulus ujian\n"
     ]
    }
   ],
   "source": [
    "if int (nilai) >= 70:\n",
    "    print (\"anda lulus ujian! selamat\")\n",
    "else:\n",
    "        print (\"anda belum lulus ujian\")"
   ]
  },
  {
   "cell_type": "code",
   "execution_count": 11,
   "id": "6a32849a-7299-4e7a-aa6b-23fc40f9a408",
   "metadata": {},
   "outputs": [
    {
     "name": "stdout",
     "output_type": "stream",
     "text": [
      "Anda belum lulus ujian!\n"
     ]
    }
   ],
   "source": [
    "if int(nilai) < 0 or int(nilai) > 100:\n",
    "    print (\"Nilai Anda TIDAK Valid\")\n",
    "elif int(nilai) >= 70:\n",
    "    print(\"Anda lulus ujian! SELAMAT!\")\n",
    "else:\n",
    "    print(\"Anda belum lulus ujian!\")"
   ]
  },
  {
   "cell_type": "code",
   "execution_count": null,
   "id": "072f3fd5-3790-4523-ae6f-9ae12e2d13e8",
   "metadata": {},
   "outputs": [],
   "source": []
  }
 ],
 "metadata": {
  "kernelspec": {
   "display_name": "Python 3 (ipykernel)",
   "language": "python",
   "name": "python3"
  },
  "language_info": {
   "codemirror_mode": {
    "name": "ipython",
    "version": 3
   },
   "file_extension": ".py",
   "mimetype": "text/x-python",
   "name": "python",
   "nbconvert_exporter": "python",
   "pygments_lexer": "ipython3",
   "version": "3.10.2"
  }
 },
 "nbformat": 4,
 "nbformat_minor": 5
}
