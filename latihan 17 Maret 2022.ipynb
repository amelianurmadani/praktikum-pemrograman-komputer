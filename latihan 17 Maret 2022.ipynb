{
 "cells": [
  {
   "cell_type": "markdown",
   "id": "8d0138b8-a39b-4468-8ec5-b34b72b7e21f",
   "metadata": {},
   "source": [
    "Amelia Nurmadani (200601110087)"
   ]
  },
  {
   "cell_type": "markdown",
   "id": "b9f1d4e2-e9da-41e2-920e-85afa5fd8bd6",
   "metadata": {},
   "source": [
    "Buatlah program yang meminta masukan user sebuah bilangan bulat N dimana (N > 0). Program kemudian menampilkan penjumlahan N bilangan genap positif pertama (bilangan genap ≥ 0)."
   ]
  },
  {
   "cell_type": "code",
   "execution_count": 1,
   "id": "0216d091-00e5-44a2-a440-326336b8a043",
   "metadata": {},
   "outputs": [
    {
     "name": "stdin",
     "output_type": "stream",
     "text": [
      "Masukkan banyak N pertama bilangan genap :  4\n"
     ]
    },
    {
     "name": "stdout",
     "output_type": "stream",
     "text": [
      "Daftar Bilangan Genap\n",
      "===========================================================================\n",
      "0 2 4 6 \n",
      "===========================================================================\n",
      "Hasil Perhitungan\n",
      "===========================================================================\n",
      "Bilangan di atas ada 4 bilangan genap\n",
      "Total dari keseluruhan bilangan genap pertama adalah 12\n"
     ]
    }
   ],
   "source": [
    "n = int(input(\"Masukkan banyak N pertama bilangan genap : \"))\n",
    "count = 0\n",
    "summ = 0\n",
    "print(\"Daftar Bilangan Genap\")\n",
    "print(\"=\" * 75)\n",
    "for i in range(n+(n-1)) :\n",
    "    if i % 2 == 0 :\n",
    "        print (i, end= ' ')\n",
    "        count = count + 1\n",
    "        summ = summ + i\n",
    "                \n",
    "print()\n",
    "print(\"=\" *75)\n",
    "print(\"Hasil Perhitungan\")\n",
    "print(\"=\" *75)\n",
    "print('Bilangan di atas ada %d bilangan genap' %count)\n",
    "print ('Total dari keseluruhan bilangan genap pertama adalah %d' %summ)"
   ]
  },
  {
   "cell_type": "markdown",
   "id": "af45bb59-9425-44d5-b53d-1946beaf00e9",
   "metadata": {},
   "source": [
    "Buatlah sebuah program yang meminta masukan user sebuah bilangan bulat N\n",
    "dimana (N > 0). Kemudian, program menampilkan penjumlahan N bilangan\n",
    "kuadrat pertama. Bilangan kuadrat adalah = 1, 4, 9, 16, 25, 36, ...., N2."
   ]
  },
  {
   "cell_type": "code",
   "execution_count": 2,
   "id": "461ce239-1411-495c-8e8f-42e970a96d56",
   "metadata": {},
   "outputs": [
    {
     "name": "stdin",
     "output_type": "stream",
     "text": [
      "Masukkan banyak N :  5\n"
     ]
    },
    {
     "name": "stdout",
     "output_type": "stream",
     "text": [
      "Daftar Bilangan Kuadrat\n",
      "===========================================================================\n",
      "1 4 9 16 25 \n",
      "===========================================================================\n",
      "Hasil Perhitungan\n",
      "===========================================================================\n",
      "Bilangan di atas ada 5 bilangan\n",
      "Total dari keseluruhan bilangan kuadrat adalah 55\n"
     ]
    }
   ],
   "source": [
    "n = int(input(\"Masukkan banyak N : \"))\n",
    "count = 0\n",
    "summ = 0\n",
    "print(\"Daftar Bilangan Kuadrat\")\n",
    "print(\"=\" * 75)\n",
    "for i in range(n+1) :\n",
    "    if i != 0:\n",
    "        print (i*i, end= ' ')\n",
    "        count = count + 1\n",
    "        summ = summ + i*i\n",
    "                \n",
    "print()\n",
    "print(\"=\" *75)\n",
    "print(\"Hasil Perhitungan\")\n",
    "print(\"=\" *75)\n",
    "print('Bilangan di atas ada %d bilangan' %count)\n",
    "print ('Total dari keseluruhan bilangan kuadrat adalah %d' %summ)"
   ]
  },
  {
   "cell_type": "markdown",
   "id": "b78621dd-6e50-4e58-a4bd-fba68fded518",
   "metadata": {},
   "source": [
    "Buatlah sebuah program yang meminta masukan user sebuah bilangan bulat N\n",
    "dimana (N > 0). Program kemudian memeriksa setiap digit yang ada di angka\n",
    "tersebut, dan menampilkan berapa jumlah digit yang ganjil dari bilangan N tersebut.\n"
   ]
  },
  {
   "cell_type": "code",
   "execution_count": 3,
   "id": "9be221eb-d273-4b11-a754-dd02f79298ec",
   "metadata": {},
   "outputs": [
    {
     "name": "stdin",
     "output_type": "stream",
     "text": [
      "Masukkan semua bilangam N :  5\n",
      "Masukkan bilangan  :  1\n",
      "Masukkan bilangan  :  2\n",
      "Masukkan bilangan  :  3\n",
      "Masukkan bilangan  :  4\n",
      "Masukkan bilangan  :  5\n"
     ]
    },
    {
     "name": "stdout",
     "output_type": "stream",
     "text": [
      "Daftar Bilangan Ganjil\n",
      "===========================================================================\n",
      "1 3 5 \n",
      "===========================================================================\n",
      "Bilangan di atas ada 3 bilangan ganjil\n"
     ]
    }
   ],
   "source": [
    "n=int(input(\"Masukkan semua bilangam N : \"))\n",
    "num_list = []\n",
    "for x in range (n) :\n",
    "    a = int(input(\"Masukkan bilangan  : \" ))\n",
    "    num_list.append(a)\n",
    "count = 0\n",
    "print(\"Daftar Bilangan Ganjil\")\n",
    "print(\"=\" * 75)\n",
    "for i in range(a+1) :\n",
    "    if i % 2 == 1 :\n",
    "        print (i, end= ' ')\n",
    "        count = count + 1\n",
    "        \n",
    "print()\n",
    "print(\"=\" *75)\n",
    "print('Bilangan di atas ada %d bilangan ganjil' %count)"
   ]
  },
  {
   "cell_type": "markdown",
   "id": "523cb8e7-4829-4d93-a941-4406cc875b9c",
   "metadata": {},
   "source": [
    "1. Cari bagaimana cara menampilkan judul (title) dari grafik.\n",
    "\n",
    "Judul atau title pada umumnya terletak pada di atas axis dan merupakan bagian dari axis. Axis itu sendiri merupakan sebuah kota merah yang didalamnya terdapat sebuah grafik yang dimana grafik tersebut pada umumnya memiliki sumbu x dan sumbu y, karena pada matplotlib judul (title) merupakan bagian dari axis maka untuk menambahkan dan mengaturnya dilakukan pada variabel axis. Contoh menampilkan judul (title) pada grafik di bawah ini."
   ]
  },
  {
   "cell_type": "code",
   "execution_count": 8,
   "id": "6abd2dfd-66bc-4724-8155-9c1f5b2cabab",
   "metadata": {},
   "outputs": [
    {
     "data": {
      "image/png": "[encoded data removed]",
      "text/plain": [
       "<Figure size 432x288 with 1 Axes>"
      ]
     },
     "metadata": {
      "needs_background": "light"
     },
     "output_type": "display_data"
    }
   ],
   "source": [
    "import matplotlib.pyplot as plt\n",
    "\n",
    "x = [3,9,15,18,21,24,27]\n",
    "y = [2,4,7,10,5,9,5]\n",
    "\n",
    "plt.plot (x,y)\n",
    "plt.title(\"Diagram Kartesius\", pad = 20)\n",
    "\n",
    "plt.grid (True)"
   ]
  },
  {
   "cell_type": "markdown",
   "id": "1495af22-457f-4d45-b8d1-b7fe317f4529",
   "metadata": {},
   "source": [
    "2. Cari bagaimana cara memberikan label beda sumbu x dan sumbu y\n",
    "\n",
    "Untuk memberikan label beda sumbu x dan sumbu y cukup menambahkan label pada axis. Contoh tampilan label beda sumbu x dan sumbu y di bawah ini."
   ]
  },
  {
   "cell_type": "code",
   "execution_count": 9,
   "id": "79137bc5-ca8c-476a-a72f-a21b58a58670",
   "metadata": {},
   "outputs": [
    {
     "data": {
      "image/png": "[encoded data removed]",
      "text/plain": [
       "<Figure size 432x288 with 1 Axes>"
      ]
     },
     "metadata": {
      "needs_background": "light"
     },
     "output_type": "display_data"
    }
   ],
   "source": [
    "import matplotlib.pyplot as plt\n",
    "x = [3,9,15,18,21,24,27]\n",
    "y = [2,4,7,10,5,9,5]\n",
    "\n",
    "plt.plot (x,y)\n",
    "plt.title(\"Diagram Kartesius\")\n",
    "\n",
    "plt.xlabel (\"Nilai x \")\n",
    "plt.ylabel (\"Nilai y\") \n",
    "plt.grid (True)"
   ]
  },
  {
   "cell_type": "markdown",
   "id": "e785a625-9951-4ab2-b783-d4f0c51a2a82",
   "metadata": {},
   "source": [
    "3. Cari bagaimana cara menambahkan teks dalam grafik.\n",
    "Untuk memberikan teks  cukup menambahkan legend pada axis. Contoh tampilan legend di bawah ini."
   ]
  },
  {
   "cell_type": "code",
   "execution_count": 10,
   "id": "fd3dab86-a936-42f3-b63f-362da039453e",
   "metadata": {},
   "outputs": [
    {
     "data": {
      "image/png": "[encoded data removed]",
      "text/plain": [
       "<Figure size 432x288 with 1 Axes>"
      ]
     },
     "metadata": {
      "needs_background": "light"
     },
     "output_type": "display_data"
    }
   ],
   "source": [
    "import matplotlib.pyplot as plt\n",
    "x = [3,9,15,18,21,24,27]\n",
    "y = [2,4,7,10,5,9,5]\n",
    "\n",
    "plt.plot (x,y)\n",
    "plt.title(\"Diagram Kartesius\")\n",
    "plt.scatter(x,y, color = \"darkgreen\", label = \"item 1\")\n",
    "\n",
    "plt.xlabel (\"Nilai x \")\n",
    "plt.ylabel (\"Nilai y\") \n",
    "\n",
    "plt.grid(True)\n",
    "plt.legend()\n",
    "\n",
    "plt.show()"
   ]
  }
 ],
 "metadata": {
  "kernelspec": {
   "display_name": "Python 3 (ipykernel)",
   "language": "python",
   "name": "python3"
  },
  "language_info": {
   "codemirror_mode": {
    "name": "ipython",
    "version": 3
   },
   "file_extension": ".py",
   "mimetype": "text/x-python",
   "name": "python",
   "nbconvert_exporter": "python",
   "pygments_lexer": "ipython3",
   "version": "3.10.2"
  }
 },
 "nbformat": 4,
 "nbformat_minor": 5
}
