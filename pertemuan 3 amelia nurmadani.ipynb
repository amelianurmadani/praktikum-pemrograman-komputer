{
 "cells": [
  {
   "cell_type": "code",
   "execution_count": 30,
   "id": "41a7ce34-608f-45b8-a63d-3c5b54f4f876",
   "metadata": {},
   "outputs": [
    {
     "name": "stdout",
     "output_type": "stream",
     "text": [
      "amelia nurmadani 200601110087\n",
      "tugas pertemuan 3\n"
     ]
    }
   ],
   "source": [
    "print ('amelia nurmadani 200601110087')\n",
    "print ('tugas pertemuan 3')"
   ]
  },
  {
   "cell_type": "markdown",
   "id": "449c54b2-b6a0-4617-90d4-31d8cc693865",
   "metadata": {},
   "source": [
    "Tipe List"
   ]
  },
  {
   "cell_type": "markdown",
   "id": "34610201-8458-43b5-9529-043ec470a88a",
   "metadata": {},
   "source": [
    "List merupakan objek yang bersifat mutable atau nilainya dapat diubah. Kita dapat menambah, mengubah, maupun menghapus elemen-elemen yang terdapat di dalam list. Objek list dibuat menggunakan tanda []. Setiap objek atau elemen yang terdapat di dalam list harus dibatasi menggunakan tanda koma, tapi tidak harus sejenis. Artinya, bisa saja list berisi beberapa objek yang berasal dari tipe berlainan, misalnya str, int, dan sebagainya. "
   ]
  },
  {
   "cell_type": "markdown",
   "id": "dec3cf30-5ce1-4fce-90de-0f4dfa42ef6a",
   "metadata": {},
   "source": [
    "berikut contoh algorithm tipe list"
   ]
  },
  {
   "cell_type": "code",
   "execution_count": 1,
   "id": "d15b20e6-839a-4db5-9984-14597407850e",
   "metadata": {},
   "outputs": [
    {
     "data": {
      "text/plain": [
       "[10, 8, 12, 6, 15]"
      ]
     },
     "execution_count": 1,
     "metadata": {},
     "output_type": "execute_result"
    }
   ],
   "source": [
    "list1 =[100,200,300,400]\n",
    "list2 =[1,'Pemrograman Komputer' , 12000.00]\n",
    "list =[10,8,12,6,15]\n",
    "list"
   ]
  },
  {
   "cell_type": "code",
   "execution_count": 3,
   "id": "1477e81a-349b-4430-ac9b-f268928bee72",
   "metadata": {},
   "outputs": [
    {
     "data": {
      "text/plain": [
       "[10, 8, 12, 6, 15]"
      ]
     },
     "execution_count": 3,
     "metadata": {},
     "output_type": "execute_result"
    }
   ],
   "source": [
    "len(list)#Menghitung banyaknya elemen didalam list 5\n",
    "li =[10,8,12,6,15]\n",
    "li"
   ]
  },
  {
   "cell_type": "code",
   "execution_count": 4,
   "id": "3657413f-f118-4bba-92ff-eae7e211c5cc",
   "metadata": {},
   "outputs": [
    {
     "data": {
      "text/plain": [
       "(10, 8, 12, 6, 15)"
      ]
     },
     "execution_count": 4,
     "metadata": {},
     "output_type": "execute_result"
    }
   ],
   "source": [
    "li[0],li[1],li[2],li[3],li[4]"
   ]
  },
  {
   "cell_type": "code",
   "execution_count": 5,
   "id": "2957e684-c075-487e-9dc5-450dd1db4e72",
   "metadata": {},
   "outputs": [
    {
     "data": {
      "text/plain": [
       "(10, 8, 12, 6, 15)"
      ]
     },
     "execution_count": 5,
     "metadata": {},
     "output_type": "execute_result"
    }
   ],
   "source": [
    "li[-5],li[-4],li[-3],li[-2],li[-1]"
   ]
  },
  {
   "cell_type": "code",
   "execution_count": 7,
   "id": "74dab304-2d23-4dcf-b54e-e8efe48ee5fa",
   "metadata": {},
   "outputs": [
    {
     "data": {
      "text/plain": [
       "[10, 8, 12, 6, 15, 20, 25, 100, 200, 300]"
      ]
     },
     "execution_count": 7,
     "metadata": {},
     "output_type": "execute_result"
    }
   ],
   "source": [
    "li .append (20)#menambahkan elemen dalam list\n",
    "li .append (25)\n",
    "li =[10, 8, 12, 6, 15, 20, 25]\n",
    "li .extend([100,200,300])#menambah list dalam sebuah list\n",
    "li"
   ]
  },
  {
   "cell_type": "code",
   "execution_count": 8,
   "id": "aef5d329-290f-4c04-8e62-96cecb87d0dc",
   "metadata": {},
   "outputs": [
    {
     "data": {
      "text/plain": [
       "[99, 77, 12, 6, 15, 20, 25, 100, 200, 300]"
      ]
     },
     "execution_count": 8,
     "metadata": {},
     "output_type": "execute_result"
    }
   ],
   "source": [
    "li[0]=99\n",
    "li[1]=77\n",
    "li"
   ]
  },
  {
   "cell_type": "code",
   "execution_count": 9,
   "id": "e1cc374b-1561-40ef-8065-4f508fd00c81",
   "metadata": {},
   "outputs": [
    {
     "data": {
      "text/plain": [
       "[77, 12, 6, 20, 25, 100, 200]"
      ]
     },
     "execution_count": 9,
     "metadata": {},
     "output_type": "execute_result"
    }
   ],
   "source": [
    "li .remove(99) #menghapus elemen dalam list\n",
    "li .remove(300)\n",
    "li .remove(15)\n",
    "li"
   ]
  },
  {
   "cell_type": "code",
   "execution_count": 10,
   "id": "21d682a9-16d3-4c17-8c08-9a3b74a541b0",
   "metadata": {},
   "outputs": [
    {
     "data": {
      "text/plain": [
       "[]"
      ]
     },
     "execution_count": 10,
     "metadata": {},
     "output_type": "execute_result"
    }
   ],
   "source": [
    "li .clear () #menghapus semua elemen didalam list\n",
    "li"
   ]
  },
  {
   "cell_type": "markdown",
   "id": "7a5e7db3-cfb2-4417-a89b-740349f795ec",
   "metadata": {},
   "source": [
    "Tipe Dictionary"
   ]
  },
  {
   "cell_type": "markdown",
   "id": "4fc57f98-1506-4e81-9978-9b8856370ddb",
   "metadata": {},
   "source": [
    "Dictionary (kamus) atau sering juga disebut tipe mapping merupakan objek yang berisi daftar pasangan kunci dan nilai (key-value pair). Pada struktur data list elemen-elemen diindeks berdasarkan bilangan positif maupun negatif tergantung dari arah mana elemen-elemen tersebut akan diakses. Pada struktur dat dictionary, elemen-elemen akan diindeks berdasarkan kuncinya. Objek yang dijadikan sebagai kunci dapat berasal dari tipe apa saja, tapi pada umumnya berupa string, atau paling tidak berupa bilangan. Berbeda dengan list, dictionary dibuat menggunakan {}. Setiap pasangan kunci dan nilai harus dipisahkan menggunakan tanda (:)."
   ]
  },
  {
   "cell_type": "markdown",
   "id": "501eebb4-0534-414f-aedc-be607b913ac2",
   "metadata": {},
   "source": [
    "Berikut merupakan contoh algorithm tipe dictionary"
   ]
  },
  {
   "cell_type": "code",
   "execution_count": 11,
   "id": "c616f96c-fc45-4597-946b-92af3583dacf",
   "metadata": {},
   "outputs": [
    {
     "data": {
      "text/plain": [
       "{'A': 4, 'B': 3, 'C': 2, 'D': 1, 'E': 0}"
      ]
     },
     "execution_count": 11,
     "metadata": {},
     "output_type": "execute_result"
    }
   ],
   "source": [
    "na={'A':4,'B':3,'C':2,'D':1,'E':0}\n",
    "na"
   ]
  },
  {
   "cell_type": "code",
   "execution_count": 12,
   "id": "2856b586-331b-4ab9-ab89-2dd9530a01ac",
   "metadata": {},
   "outputs": [
    {
     "data": {
      "text/plain": [
       "dict_keys(['A', 'B', 'C', 'D', 'E'])"
      ]
     },
     "execution_count": 12,
     "metadata": {},
     "output_type": "execute_result"
    }
   ],
   "source": [
    "na.keys() #menampilkan kata kunci(key) dalam dictionary"
   ]
  },
  {
   "cell_type": "code",
   "execution_count": 13,
   "id": "8d301d7a-7b11-41de-a83d-16fb1bc6f9c1",
   "metadata": {},
   "outputs": [
    {
     "data": {
      "text/plain": [
       "dict_values([4, 3, 2, 1, 0])"
      ]
     },
     "execution_count": 13,
     "metadata": {},
     "output_type": "execute_result"
    }
   ],
   "source": [
    "na.values() #menampilkan kata value dalam dictionary"
   ]
  },
  {
   "cell_type": "code",
   "execution_count": 14,
   "id": "5536ecfe-fd7e-4adb-b02c-20134544c009",
   "metadata": {},
   "outputs": [
    {
     "data": {
      "text/plain": [
       "4"
      ]
     },
     "execution_count": 14,
     "metadata": {},
     "output_type": "execute_result"
    }
   ],
   "source": [
    "na['A']"
   ]
  },
  {
   "cell_type": "code",
   "execution_count": 15,
   "id": "3ebeca03-ce76-44af-b1b4-bdbeedcad477",
   "metadata": {},
   "outputs": [
    {
     "data": {
      "text/plain": [
       "3"
      ]
     },
     "execution_count": 15,
     "metadata": {},
     "output_type": "execute_result"
    }
   ],
   "source": [
    "na['B']"
   ]
  },
  {
   "cell_type": "code",
   "execution_count": 16,
   "id": "b2a96908-f84c-42cb-b76d-be4a6ec40bce",
   "metadata": {},
   "outputs": [
    {
     "data": {
      "text/plain": [
       "2"
      ]
     },
     "execution_count": 16,
     "metadata": {},
     "output_type": "execute_result"
    }
   ],
   "source": [
    "na['C']"
   ]
  },
  {
   "cell_type": "code",
   "execution_count": 18,
   "id": "acba319b-2242-4929-80e4-73f5418bce18",
   "metadata": {},
   "outputs": [
    {
     "data": {
      "text/plain": [
       "'kucing'"
      ]
     },
     "execution_count": 18,
     "metadata": {},
     "output_type": "execute_result"
    }
   ],
   "source": [
    "kamus={'mouse':'tikus','cat':'kucing'}\n",
    "kamus['cat']"
   ]
  },
  {
   "cell_type": "code",
   "execution_count": 19,
   "id": "6ffa2ce4-5418-4edf-aca6-94b83a19eb0b",
   "metadata": {},
   "outputs": [
    {
     "data": {
      "text/plain": [
       "dict_keys(['mouse', 'cat'])"
      ]
     },
     "execution_count": 19,
     "metadata": {},
     "output_type": "execute_result"
    }
   ],
   "source": [
    "kamus.keys()"
   ]
  },
  {
   "cell_type": "code",
   "execution_count": 20,
   "id": "b53fa89e-3fcd-4a11-8a7e-856ba468bfaa",
   "metadata": {},
   "outputs": [
    {
     "data": {
      "text/plain": [
       "dict_values(['tikus', 'kucing'])"
      ]
     },
     "execution_count": 20,
     "metadata": {},
     "output_type": "execute_result"
    }
   ],
   "source": [
    "kamus.values()"
   ]
  },
  {
   "cell_type": "markdown",
   "id": "70b8c2c3-d30b-417e-8d8e-2b15d303dbdb",
   "metadata": {},
   "source": [
    "Tipe Tuple"
   ]
  },
  {
   "cell_type": "markdown",
   "id": "7594cdca-4e58-45dd-a4b3-0929b23fea36",
   "metadata": {},
   "source": [
    "Tuple adalah tipe koleksi yang mirip dengan list. perbedaannya, tuple bersifat immutable atau elemen-elemennya tidak dapat diubah, baik nilainya maupun jumlah elemennya. Ini berarti bahwa kita tidak dapat menambah, mengubah, atau menghapus elemen di dalam tuple. Dengan kata lain, tuple merupakan korelasi yang bersifat konstan. Tuple dibuat menggunakan tanda ()."
   ]
  },
  {
   "cell_type": "markdown",
   "id": "2ae74cf8-94f6-41fe-ad5b-d4e81476213d",
   "metadata": {},
   "source": [
    "berikut contoh algorithm tipe tuple"
   ]
  },
  {
   "cell_type": "code",
   "execution_count": 21,
   "id": "34b2769e-a922-41f4-974e-f9247af0a56c",
   "metadata": {},
   "outputs": [
    {
     "data": {
      "text/plain": [
       "10"
      ]
     },
     "execution_count": 21,
     "metadata": {},
     "output_type": "execute_result"
    }
   ],
   "source": [
    "t=(10,20,30)\n",
    "t[0]"
   ]
  },
  {
   "cell_type": "code",
   "execution_count": 22,
   "id": "9f3ec72d-fea3-4b38-8907-65a77f5fb660",
   "metadata": {},
   "outputs": [
    {
     "data": {
      "text/plain": [
       "20"
      ]
     },
     "execution_count": 22,
     "metadata": {},
     "output_type": "execute_result"
    }
   ],
   "source": [
    "t[1]"
   ]
  },
  {
   "cell_type": "code",
   "execution_count": 23,
   "id": "5acd81da-6dd7-42e6-8bcd-94587aade180",
   "metadata": {},
   "outputs": [
    {
     "data": {
      "text/plain": [
       "30"
      ]
     },
     "execution_count": 23,
     "metadata": {},
     "output_type": "execute_result"
    }
   ],
   "source": [
    "t[2]"
   ]
  },
  {
   "cell_type": "code",
   "execution_count": 24,
   "id": "33a216ca-e2f7-4261-aa3c-5bb2e4a20d5a",
   "metadata": {},
   "outputs": [
    {
     "data": {
      "text/plain": [
       "(10, 20, 30)"
      ]
     },
     "execution_count": 24,
     "metadata": {},
     "output_type": "execute_result"
    }
   ],
   "source": [
    "t[-3],t[-2],t[-1]"
   ]
  },
  {
   "cell_type": "code",
   "execution_count": 25,
   "id": "79850d5d-fd56-491d-bfd2-6bfdab5aed2a",
   "metadata": {},
   "outputs": [
    {
     "data": {
      "text/plain": [
       "3"
      ]
     },
     "execution_count": 25,
     "metadata": {},
     "output_type": "execute_result"
    }
   ],
   "source": [
    "len(t) #menghitung banyaknya elemen didalam tuple"
   ]
  },
  {
   "cell_type": "markdown",
   "id": "57341451-00d1-480b-a8d4-af6d127e00bc",
   "metadata": {},
   "source": [
    "Tipe Set"
   ]
  },
  {
   "cell_type": "markdown",
   "id": "851529e6-f4f7-4d18-9a74-cac1a30add0b",
   "metadata": {},
   "source": [
    "Set (himpunan) adalah tipe koleksi yang setiap elemennya bersifat unik. Dengan demikian, di dalam set tidak akan pernah ada duplikasi nilai elemen. Jika pada saat pembuatan set terdapat beberapa elemen yang nilainya sama, maka elemen-elemen tersebut hanya akan diambil satu, sisanya secara otomatis akan dibuang. Set dibuat menggunakan fungsi set () dengan parameter bisa berupa list, dictionary, tuple, maupun string. "
   ]
  },
  {
   "cell_type": "markdown",
   "id": "51d45097-2516-4fec-9a6c-2dce355e9488",
   "metadata": {},
   "source": [
    "berikut contoh algorithm tipe set"
   ]
  },
  {
   "cell_type": "code",
   "execution_count": 26,
   "id": "e2651669-8d03-40ad-9ab4-1c73544c9f1a",
   "metadata": {},
   "outputs": [
    {
     "data": {
      "text/plain": [
       "{10, 20, 30}"
      ]
     },
     "execution_count": 26,
     "metadata": {},
     "output_type": "execute_result"
    }
   ],
   "source": [
    "s=set([10,10,20,30,30,30])\n",
    "s"
   ]
  },
  {
   "cell_type": "code",
   "execution_count": 27,
   "id": "0bab4f5d-3219-44a7-8075-57bac3837566",
   "metadata": {},
   "outputs": [
    {
     "data": {
      "text/plain": [
       "3"
      ]
     },
     "execution_count": 27,
     "metadata": {},
     "output_type": "execute_result"
    }
   ],
   "source": [
    "len(s)"
   ]
  },
  {
   "cell_type": "code",
   "execution_count": 28,
   "id": "20eb0147-e279-4c38-9804-e5f2c0074c43",
   "metadata": {},
   "outputs": [
    {
     "data": {
      "text/plain": [
       "{10, 20, 30, 60}"
      ]
     },
     "execution_count": 28,
     "metadata": {},
     "output_type": "execute_result"
    }
   ],
   "source": [
    "s.add(60) #menambahkan anggota himpunan(set)\n",
    "s"
   ]
  },
  {
   "cell_type": "code",
   "execution_count": 29,
   "id": "bab4a7c7-ee11-441f-bc04-186e04fb7647",
   "metadata": {},
   "outputs": [
    {
     "data": {
      "text/plain": [
       "4"
      ]
     },
     "execution_count": 29,
     "metadata": {},
     "output_type": "execute_result"
    }
   ],
   "source": [
    "len(s)"
   ]
  },
  {
   "cell_type": "code",
   "execution_count": null,
   "id": "c84b95aa-6345-4814-8e83-ed2e70439f3f",
   "metadata": {},
   "outputs": [],
   "source": []
  }
 ],
 "metadata": {
  "kernelspec": {
   "display_name": "Python 3 (ipykernel)",
   "language": "python",
   "name": "python3"
  },
  "language_info": {
   "codemirror_mode": {
    "name": "ipython",
    "version": 3
   },
   "file_extension": ".py",
   "mimetype": "text/x-python",
   "name": "python",
   "nbconvert_exporter": "python",
   "pygments_lexer": "ipython3",
   "version": "3.10.2"
  }
 },
 "nbformat": 4,
 "nbformat_minor": 5
}
