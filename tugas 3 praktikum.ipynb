{
 "cells": [
  {
   "cell_type": "markdown",
   "id": "3b97f963-e1de-4d82-b4f5-806822f1ae66",
   "metadata": {},
   "source": [
    "Nama: Amelia Nurmadani"
   ]
  },
  {
   "cell_type": "markdown",
   "id": "116869a4-a7f4-4ee8-9906-523b91ad8e05",
   "metadata": {},
   "source": [
    "NIM: 200601110087"
   ]
  },
  {
   "cell_type": "markdown",
   "id": "7eb0d72a-0caa-4e84-948b-7a93674dfaad",
   "metadata": {},
   "source": [
    "TUGAS 3 PRAKTIKUM PEMROGRAMAN KOMPUTER 1"
   ]
  },
  {
   "cell_type": "markdown",
   "id": "d4f7a4f5-87fc-4a44-a14e-6d232c78681f",
   "metadata": {},
   "source": [
    "1. menentukan maksimum dari 2 nilai"
   ]
  },
  {
   "cell_type": "code",
   "execution_count": 1,
   "id": "10ac69f5-f2b4-4dce-93ff-a41713170787",
   "metadata": {},
   "outputs": [],
   "source": [
    "def main():\n",
    "# membuat judul program\n",
    "    print('menentukan nilai maksimum')"
   ]
  },
  {
   "cell_type": "code",
   "execution_count": 10,
   "id": "2565f075-eec2-4d37-9202-dfeed3fb6fe3",
   "metadata": {},
   "outputs": [
    {
     "name": "stdout",
     "output_type": "stream",
     "text": [
      "-------------------------\n"
     ]
    },
    {
     "name": "stdin",
     "output_type": "stream",
     "text": [
      "masukkan nilai pertama:  3\n",
      "masukkan nilai kedua:  5\n"
     ]
    },
    {
     "name": "stdout",
     "output_type": "stream",
     "text": [
      "-------------------------\n"
     ]
    }
   ],
   "source": [
    "# input nilai\n",
    "print('-' * 25)\n",
    "x = int(input(\"masukkan nilai pertama: \"))\n",
    "y = int(input(\"masukkan nilai kedua: \"))\n",
    "print('-' * 25)"
   ]
  },
  {
   "cell_type": "code",
   "execution_count": 11,
   "id": "06f4ef40-880f-4d45-818e-5fc5f6e0ad21",
   "metadata": {},
   "outputs": [
    {
     "name": "stdout",
     "output_type": "stream",
     "text": [
      "-------------------------\n",
      "nilai maksimum adalah 5\n",
      "-------------------------\n"
     ]
    }
   ],
   "source": [
    "# menentukan maksimum menggunakan if else\n",
    "if x > y :\n",
    "    maks = x\n",
    "else :\n",
    "    maks = y\n",
    "#mencetak nilai maksimum\n",
    "print('-' * 25)\n",
    "print ('nilai maksimum adalah %d' %maks)\n",
    "print('-' * 25)"
   ]
  },
  {
   "cell_type": "markdown",
   "id": "b1323e0e-0255-4694-9510-829723848196",
   "metadata": {},
   "source": [
    "2. menentukan nilai akhir mahasiswa"
   ]
  },
  {
   "cell_type": "code",
   "execution_count": 4,
   "id": "57cbbbad-b8b2-4c3f-bcc8-c61e58a5b3c8",
   "metadata": {},
   "outputs": [],
   "source": [
    "def main():\n",
    "    # membuat judul program\n",
    "    print('menentukan nilai akhir mahasiswa')"
   ]
  },
  {
   "cell_type": "code",
   "execution_count": 12,
   "id": "06966941-f84b-4b8d-ada2-e7fc9d1e0e0b",
   "metadata": {},
   "outputs": [
    {
     "name": "stdout",
     "output_type": "stream",
     "text": [
      "-------------------------\n"
     ]
    },
    {
     "name": "stdin",
     "output_type": "stream",
     "text": [
      "masukkan nilai uas:  88\n",
      "masukkan nilai uts:  78\n",
      "masukkan nilai kuis:  77\n",
      "masukkan nilai tugas:  99\n"
     ]
    },
    {
     "name": "stdout",
     "output_type": "stream",
     "text": [
      "-------------------------\n"
     ]
    }
   ],
   "source": [
    "# input nilai\n",
    "print('-' * 25)\n",
    "a = int(input(\"masukkan nilai uas: \"))\n",
    "b = int(input(\"masukkan nilai uts: \"))\n",
    "c = int(input(\"masukkan nilai kuis: \"))\n",
    "d = int(input(\"masukkan nilai tugas: \"))\n",
    "print('-' * 25)"
   ]
  },
  {
   "cell_type": "code",
   "execution_count": 13,
   "id": "584749dc-0c32-4e6c-a7ab-5cffb8fcfdb7",
   "metadata": {},
   "outputs": [
    {
     "name": "stdout",
     "output_type": "stream",
     "text": [
      "-------------------------\n",
      "nilai akhir mahasiswa adalah 86\n",
      "mahasiswa tidak remidi\n",
      "-------------------------\n"
     ]
    }
   ],
   "source": [
    "# menghitung nilai akhir\n",
    "print('-' * 25)\n",
    "x = a*0.4 + b*0.3 + c*0.1 + d*0.2\n",
    "print('nilai akhir mahasiswa adalah %d' %x)\n",
    "if a*0.4 + b*0.3 + c*0.1 + d*0.2 > 65 :\n",
    "    print(\"mahasiswa tidak remidi\")\n",
    "else :\n",
    "    print(\"mahasiswa remidi\")\n",
    "print('-' * 25)"
   ]
  },
  {
   "cell_type": "markdown",
   "id": "4f78f8d4-9a3c-4163-b578-b62723894548",
   "metadata": {},
   "source": [
    "3. membuat program kalkulator"
   ]
  },
  {
   "cell_type": "code",
   "execution_count": 17,
   "id": "25aba2a5-de76-41a5-af2c-14f93b24b891",
   "metadata": {},
   "outputs": [
    {
     "name": "stdout",
     "output_type": "stream",
     "text": [
      "=========================\n",
      "Operator\n",
      "  1. Jumlah \t [+]\n",
      "  2. Kurang \t [-]\n",
      "  3. Kali \t [*]\n",
      "  4. Bagi \t [/]\n",
      "-------------------------\n"
     ]
    },
    {
     "name": "stdin",
     "output_type": "stream",
     "text": [
      "Pilih operator (1/2/3/4):  3\n",
      "Masukkan bilangan pertama:  4\n",
      "Masukkan bilangan kedua:  5\n"
     ]
    },
    {
     "name": "stdout",
     "output_type": "stream",
     "text": [
      "=========================\n"
     ]
    }
   ],
   "source": [
    "print('=' * 25)\n",
    "print('Operator')\n",
    "print('  1. Jumlah \\t [+]')\n",
    "print('  2. Kurang \\t [-]')\n",
    "print('  3. Kali \\t [*]')\n",
    "print('  4. Bagi \\t [/]')\n",
    "print('-' * 25)\n",
    "\n",
    "operator = input('Pilih operator (1/2/3/4): ')\n",
    "bilangan_1 = eval(input('Masukkan bilangan pertama: '))\n",
    "bilangan_2 = eval(input('Masukkan bilangan kedua: '))\n",
    "print('=' * 25)"
   ]
  },
  {
   "cell_type": "code",
   "execution_count": 18,
   "id": "49998c45-2d44-408a-ad24-4cd4ccd77eb2",
   "metadata": {},
   "outputs": [
    {
     "name": "stdout",
     "output_type": "stream",
     "text": [
      "-------------------------\n",
      "memilih perkalian\n",
      "-------------------------\n"
     ]
    }
   ],
   "source": [
    "print('-' * 25)\n",
    "\n",
    "if operator == '1':\n",
    "  print('memilih penjumlahan')\n",
    "elif operator == '2':\n",
    "  print('memilih pengurangan')\n",
    "elif operator == '3':\n",
    "  print('memilih perkalian')\n",
    "elif operator == '4':\n",
    "  print('memilih pembagian')\n",
    "else:\n",
    "  print('Tidak valid')\n",
    "\n",
    "print('-' * 25)"
   ]
  },
  {
   "cell_type": "code",
   "execution_count": 20,
   "id": "ee497975-db38-480d-b2e6-c31cb9774967",
   "metadata": {},
   "outputs": [
    {
     "name": "stdout",
     "output_type": "stream",
     "text": [
      "-------------------------\n",
      "Hasil didapat yaitu 4 * 5 = 20\n",
      "-------------------------\n"
     ]
    }
   ],
   "source": [
    "print('-' * 25)\n",
    "if operator == '1':\n",
    "  hasil = bilangan_1 + bilangan_2\n",
    "  print(f'Hasil didapat yaitu {bilangan_1} + {bilangan_2} = {hasil}')\n",
    "elif operator == '2':\n",
    "  hasil = bilangan_1 - bilangan_2\n",
    "  print(f'Hasil didapat yaitu {bilangan_1} - {bilangan_2} = {hasil}')\n",
    "elif operator == '3':\n",
    "  hasil = bilangan_1 * bilangan_2\n",
    "  print(f'Hasil didapat yaitu {bilangan_1} * {bilangan_2} = {hasil}')\n",
    "elif operator == '4':\n",
    "  hasil = bilangan_1 / bilangan_2\n",
    "  print(f'Hasil didapat yaitu {bilangan_1} / {bilangan_2} = {hasil}')\n",
    "else:\n",
    "  print('Tidak valid')\n",
    "print('-' * 25)"
   ]
  },
  {
   "cell_type": "code",
   "execution_count": null,
   "id": "73496fc1-83c5-4bca-9fb4-2033960ca88b",
   "metadata": {},
   "outputs": [],
   "source": []
  }
 ],
 "metadata": {
  "kernelspec": {
   "display_name": "Python 3 (ipykernel)",
   "language": "python",
   "name": "python3"
  },
  "language_info": {
   "codemirror_mode": {
    "name": "ipython",
    "version": 3
   },
   "file_extension": ".py",
   "mimetype": "text/x-python",
   "name": "python",
   "nbconvert_exporter": "python",
   "pygments_lexer": "ipython3",
   "version": "3.10.2"
  }
 },
 "nbformat": 4,
 "nbformat_minor": 5
}
